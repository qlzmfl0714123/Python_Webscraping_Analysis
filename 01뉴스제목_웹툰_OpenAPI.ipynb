{
 "cells": [
  {
   "cell_type": "markdown",
   "id": "eb0bfa44",
   "metadata": {},
   "source": [
    "## 1. 뉴스제목 가져오기\n",
    "* user-agent 요청헤더를 반드시 설정해야 한다."
   ]
  },
  {
   "cell_type": "code",
   "execution_count": 4,
   "id": "f0d27781",
   "metadata": {},
   "outputs": [
    {
     "name": "stdout",
     "output_type": "stream",
     "text": [
      "Name: requests\n",
      "Version: 2.32.3\n",
      "Summary: Python HTTP for Humans.\n",
      "Home-page: https://requests.readthedocs.io\n",
      "Author: Kenneth Reitz\n",
      "Author-email: me@kennethreitz.org\n",
      "License: Apache-2.0\n",
      "Location: C:\\Users\\user\\anaconda3\\Lib\\site-packages\n",
      "Requires: certifi, charset-normalizer, idna, urllib3\n",
      "Required-by: anaconda-catalogs, anaconda-client, anaconda-cloud-auth, anaconda-project, conda, conda-build, conda-repo-cli, conda_package_streaming, cookiecutter, datashader, jupyterlab_server, panel, requests-file, requests-toolbelt, Sphinx, streamlit, tldextract\n"
     ]
    }
   ],
   "source": [
    "# requests 라이브러리 설치여부 확인\n",
    "!pip show requests"
   ]
  },
  {
   "cell_type": "code",
   "execution_count": 5,
   "id": "f7798ea8",
   "metadata": {},
   "outputs": [
    {
     "name": "stdout",
     "output_type": "stream",
     "text": [
      "Name: beautifulsoup4\n",
      "Version: 4.12.3\n",
      "Summary: Screen-scraping library\n",
      "Home-page: https://www.crummy.com/software/BeautifulSoup/bs4/\n",
      "Author: \n",
      "Author-email: Leonard Richardson <leonardr@segfault.org>\n",
      "License: MIT License\n",
      "Location: C:\\Users\\user\\anaconda3\\Lib\\site-packages\n",
      "Requires: soupsieve\n",
      "Required-by: conda-build, nbconvert\n"
     ]
    }
   ],
   "source": [
    "# beautifulsoup4 라이브러리 설치여부 확인\n",
    "!pip show beautifulsoup4"
   ]
  },
  {
   "cell_type": "code",
   "execution_count": 6,
   "id": "bf80a429",
   "metadata": {},
   "outputs": [],
   "source": [
    "# reqeusts, bs4 import\n",
    "import requests \n",
    "# BeautifulSoup import\n",
    "import bs4\n",
    "#beautifulsoup 클래스 import\n",
    "from bs4 import BeautifulSoup"
   ]
  },
  {
   "cell_type": "code",
   "execution_count": 7,
   "id": "9788d6ac",
   "metadata": {},
   "outputs": [
    {
     "name": "stdout",
     "output_type": "stream",
     "text": [
      "requests 버전 = 2.32.3\n",
      "bs4 버전 = 4.12.3\n"
     ]
    }
   ],
   "source": [
    "# requests, bs4 버전 확인하기\n",
    "print(f'requests 버전 = {requests.__version__}')\n",
    "print(f'bs4 버전 = {bs4.__version__}')"
   ]
  },
  {
   "cell_type": "markdown",
   "id": "ccb91def-cde3-4aeb-b0e5-2e7233500333",
   "metadata": {},
   "source": [
    "### 1. 뉴스 제목 추출하기"
   ]
  },
  {
   "cell_type": "code",
   "execution_count": 8,
   "id": "94c12fd6",
   "metadata": {},
   "outputs": [
    {
     "name": "stdout",
     "output_type": "stream",
     "text": [
      "https://news.naver.com/section/105\n"
     ]
    }
   ],
   "source": [
    "# IT/과학 뉴스 \n",
    "req_param = {\n",
    "    'sid': 105\n",
    "}\n",
    "\n",
    "sid = 104\n",
    "#url =f'https://news.naver.com/section/{sid}' \n",
    "url = 'https://news.naver.com/section/{sid}'.format(**req_param)\n",
    "print(url)\n"
   ]
  },
  {
   "cell_type": "code",
   "execution_count": 9,
   "id": "b55b6e0a",
   "metadata": {},
   "outputs": [
    {
     "name": "stdout",
     "output_type": "stream",
     "text": [
      "https://news.naver.com/section/105\n",
      "200 True\n",
      "<class 'requests.models.Response'>\n",
      "<Response [200]>\n",
      "43\n",
      "<class 'bs4.element.ResultSet'>\n",
      "1 솔트룩스, KT ‘믿음’과 손잡아…‘독자 AI’ 사업 참전 https://n.news.naver.com/mnews/article/009/0005529262\n",
      "2 갤럭시 Z 폴드7·Z 플립7, 폴더블 최다 사전판매 신기록.. 개통 시작 https://n.news.naver.com/mnews/article/014/0005380605\n",
      "3 네이버클라우드, 140억 파라미터 추론모델도 상업용 무료 공개 https://n.news.naver.com/mnews/article/277/0005626112\n",
      "4 불법 사이트 수사 피해 日 귀화까지…만화가들 \"뉴토끼 운영자 송환 촉구\" https://n.news.naver.com/mnews/article/119/0002982265\n",
      "5 \"올해 삼성 폴더블폰 점유율 10%P↓ 전망…내년 애플 출시 관건\" https://n.news.naver.com/mnews/article/001/0015522990\n",
      "6 ‘K-AI휴머노이드’ 개발…출연연·대학·기업 어벤져스 ‘전략연구단’ 떴다 https://n.news.naver.com/mnews/article/016/0002503305\n",
      "7 게임, K콘텐츠 주역인데…일자리 8만개 사라질 수도 있다고? https://n.news.naver.com/mnews/article/011/0004512256\n",
      "8 \"SKT 위약금 면제로 7조 원 손실? 국민 협박, 사과 안 하면 고발\" https://n.news.naver.com/mnews/article/006/0000130992\n",
      "9 “50% 할인에도 하루 1대도 안팔려” 망할 줄 알았더니… 난리난 ‘접는폰’ 반전 https://n.news.naver.com/mnews/article/016/0002503447\n",
      "10 한화에어로-항우연, 누리호 기술이전 타결 초읽기…25일 체결할 듯 https://n.news.naver.com/mnews/article/020/0003649663\n",
      "11 한국형 AI 휴머노이드 키는 160cm에 체중 55kg…브레인은 대·소뇌로 분리 https://n.news.naver.com/mnews/article/092/0002383097\n",
      "12 “이러다 쫄딱 망한다!” 넷플릭스발 충격 사태에…티빙 ‘발칵’ https://n.news.naver.com/mnews/article/016/0002503435\n",
      "13 핸디소프트, 최대주주 폴라리스AI로 바뀐다 https://n.news.naver.com/mnews/article/030/0003334191\n",
      "14 단통법 오늘 폐지…이통사 보조금 전쟁 시작되나 https://n.news.naver.com/mnews/article/056/0011994013\n",
      "15 항우연-한화 누리호 기술이전 협상 타결 임박... 민간 로켓시장 확대 기대 https://n.news.naver.com/mnews/article/469/0000877468\n",
      "16 단통법 폐지 첫날, 소비자도 '성지'도 고요했다 [르포] https://n.news.naver.com/mnews/article/469/0000877461\n",
      "17 [단독] 한화에어로, 누리호 기술 100% 전수받는다…우협대상 선정 3년여만 https://n.news.naver.com/mnews/article/009/0005529453\n",
      "18 “동물 보호 외치면서 ‘뱀가죽’ 지갑?” 이런 게 수두룩…놀라운 ‘반전’ 알고 보니 [지구, 뭐래?] https://n.news.naver.com/mnews/article/016/0002503417\n",
      "19 현대카드 없어도 아이폰으로 교통카드 기능 '삑'…직접 써보니 https://n.news.naver.com/mnews/article/277/0005626419\n",
      "20 비만치료제, 끊으면 어김없이 '요요' 온다... \"중단 두 달 지나자 체중 증가\" https://n.news.naver.com/mnews/article/469/0000877452\n",
      "21 '사전판매 104만대' 갤럭시Z 시리즈 새 기록 썼다 https://n.news.naver.com/mnews/article/014/0005380893\n",
      "22 고동진 의원도 “잘 돌아가더라”… LG 엑사원, 퓨리오사AI ‘레니게이드’ 도입 https://n.news.naver.com/mnews/article/018/0006071455\n",
      "23 한산한 휴대폰 매장… ‘공짜폰’ 기대한 손님들 발길 돌려 [단통법 폐지 첫날] https://n.news.naver.com/mnews/article/014/0005380884\n",
      "24 “200% 관세 부과” 트럼프 경고에 움직인 글로벌 제약사들…대규모 투자로 대응 https://n.news.naver.com/mnews/article/029/0002970156\n",
      "25 美·中 관세 전쟁에 브라질 주목받는 까닭 https://n.news.naver.com/mnews/article/020/0003649650\n",
      "26 출고가 164만원 플립7이 9만원…단통법 폐지 첫날 '성지' 가보니 [팩플] https://n.news.naver.com/mnews/article/025/0003456896\n",
      "27 알트먼-손정의 '660조 동맹' 이상기류…오픈AI, 독자노선 걷는다 https://n.news.naver.com/mnews/article/092/0002383093\n",
      "28 신재호 디엔에프 대표 “한국의 반도체 패권, 계속될 거란 보장 어디에도 없다” https://n.news.naver.com/mnews/article/009/0005529412\n",
      "29 '2034년 36조' P2E 시장 급성장에도…사행성 낙인에 해외로 떠나는 K게임 https://n.news.naver.com/mnews/article/011/0004512257\n",
      "30 게임, K콘텐츠 주역인데…일자리 8만개 사라질 수도 있다고? https://n.news.naver.com/mnews/article/011/0004512256\n",
      "31 [비즈톡톡] 690조 AI 프로젝트 ‘스타게이트’, 오픈AI·소프트뱅크 갈등에 시작부터 난항 https://n.news.naver.com/mnews/article/366/0001094705\n",
      "32 [상법개정안 여파]하이브, '주주충실 의무'에 뉴진스 활동 재개 숙제 https://n.news.naver.com/mnews/article/293/0000070125\n",
      "33 전기 감지하는 헬멧으로 적 알아보는 '나무매미' https://n.news.naver.com/mnews/article/584/0000033509\n",
      "34 K-반도체 中企에 '3개의 사다리' 놓아달라 https://n.news.naver.com/mnews/article/009/0005529349\n",
      "35 65년 언론 DNA와 아마존 AI의 결합…'뉴스의 미래'를 다시 쓰다 https://n.news.naver.com/mnews/article/011/0004512230\n",
      "36 AI가 뚫고 막는 시대…정부 '사이버 방패' 꺼낸다 https://n.news.naver.com/mnews/article/011/0004512222\n",
      "37 '美 지니어스 액트' 다음은? 홍콩, 내달 스테이블코인 발행 [코인브리핑] https://n.news.naver.com/mnews/article/014/0005380817\n",
      "38 [나는 K-AI다] 5팀만 생존... 한국 AI 정예팀 서바이벌, 관전 포인트는? https://n.news.naver.com/mnews/article/138/0002201158\n",
      "39 \"게임은 정신적 아편\"이라던 中, 이젠 '소프트파워'로 키운다 https://n.news.naver.com/mnews/article/011/0004512201\n",
      "40 \"150만원짜리 폰이 6만원\"…조용히 시작된 '할인 국지전' https://n.news.naver.com/mnews/article/011/0004512195\n",
      "41 챗GPT, 하루 쿼리 25억건…구글 검색 위협 https://n.news.naver.com/mnews/article/366/0001094684\n",
      "42 네오플 노사 갈등 입장 '평행선'…파업 장기화에 이용자 반발 https://n.news.naver.com/mnews/article/138/0002201156\n",
      "43 폴라리스오피스그룹, 핸디소프트 500억에 인수..공공기관 SW 진출 https://n.news.naver.com/mnews/article/018/0006071240\n"
     ]
    }
   ],
   "source": [
    "# IT/과학 뉴스 \n",
    "req_param = {\n",
    "    'sid': 105\n",
    "}\n",
    "url = 'https://news.naver.com/section/{sid}'.format(**req_param)\n",
    "print(url)\n",
    "\n",
    "# 요청 헤더 설정 : 브라우저 정보\n",
    "req_header = {\n",
    "    \"user-agent\": \"Mozilla/5.0 (Windows NT 10.0; Win64; x64) AppleWebKit/537.36 (KHTML, like Gecko) Chrome/104.0.0.0 Safari/537.36\"\n",
    "}\n",
    "\n",
    "# requests 의 get() 함수 호출하기 \n",
    "res=requests.get(url,headers=req_header)\n",
    "print(res.status_code, res.ok)\n",
    "print(type(res))\n",
    "print(res)\n",
    "\n",
    "# 응답(response)이 OK 이면\n",
    "# 응답 (response)에서 text 추출\n",
    "if res.ok:\n",
    "    html = res.text\n",
    "    # BeautifulSoup 객체 생성\n",
    "    soup = BeautifulSoup(html, \"html.parser\")   \n",
    "    #print(soup)\n",
    "    # CSS 선택자\n",
    "    # print(soup.select(\"div.sa_text a[href*='mnews/article']\"))\n",
    "    '''\n",
    "       <div class='sa_text'> \n",
    "          <a href=\"https://n.news.naver.com/mnews/article/366/0001094461\" class=\"sa_text_title\">\n",
    "    '''\n",
    "    a_tags = soup.select(\"div.sa_text a[href*='https://n.news.naver.com/mnews/article'].sa_text_title\")\n",
    "    print(len(a_tags))\n",
    "    print(type(a_tags)) #[Tag,Tag,Tag]\n",
    "    # <a> 태그 리스트 순회하기\n",
    "    for idx,a_tag in enumerate(a_tags,1):        \n",
    "        if a_tag.text:\n",
    "            title = a_tag.text.strip() # 제목\n",
    "            link = a_tag['href'] # 링크\n",
    "            #print(len(title))\n",
    "            print(f'{idx} {title} {link}')\n",
    "else:\n",
    "    # 응답(response)이 Error 이면 status code 출력    \n",
    "    print(f'Error Code = {res.status_code}')\n"
   ]
  },
  {
   "cell_type": "markdown",
   "id": "45640860-a449-4285-90d7-5f300292b461",
   "metadata": {},
   "source": [
    "### 1.1 뉴스제목 추출하는 함수 선언하기"
   ]
  },
  {
   "cell_type": "code",
   "execution_count": 10,
   "id": "9f2e4ef8",
   "metadata": {},
   "outputs": [],
   "source": [
    "import requests\n",
    "from bs4 import BeautifulSoup\n",
    "\n",
    "#section_dict = {100:'정치',101:'경제',102:'사회',103:'생활/문화',104:'세계',105:'IT/과학'}\n",
    "section_dict = {'정치':100,'경제':101,'사회':102,'생활/문화':103,'세계':104,'IT/과학':105}\n",
    "\n",
    "def print_news(section):  #print_new(103,'생활/문화') \n",
    "    sid = section_dict[section]\n",
    "    url = f'https://news.naver.com/section/{sid}'\n",
    "    print(f'{url} {section} 뉴스')\n",
    "\n",
    "    # 요청 헤더 설정 : 브라우저 정보\n",
    "    req_header = {\n",
    "        \"user-agent\": \"Mozilla/5.0 (Windows NT 10.0; Win64; x64) AppleWebKit/537.36 (KHTML, like Gecko) Chrome/104.0.0.0 Safari/537.36\"\n",
    "    }\n",
    "    # requests 의 get() 함수 호출하기 \n",
    "    res=requests.get(url,headers=req_header)\n",
    "    print(res.status_code, res.ok)\n",
    "    if res.ok:\n",
    "        html = res.text\n",
    "        # BeautifulSoup 객체 생성\n",
    "        soup = BeautifulSoup(html, \"html.parser\")\n",
    "        a_tags = soup.select(\"div.sa_text a[href*='https://n.news.naver.com/mnews/article'].sa_text_title\")\n",
    "        print(len(a_tags))\n",
    "        # <a> 태그 리스트 순회하기\n",
    "        for idx,a_tag in enumerate(a_tags,1):        \n",
    "            if a_tag.text:\n",
    "                title = a_tag.text.strip() # 제목\n",
    "                link = a_tag['href'] # 링크\n",
    "                #print(len(title))\n",
    "                print(f'{idx} {title} {link}')\n",
    "    else:\n",
    "        # 응답(response)이 Error 이면 status code 출력    \n",
    "        print(f'Error Code = {res.status_code}')      \n",
    "\n",
    "   "
   ]
  },
  {
   "cell_type": "code",
   "execution_count": 11,
   "id": "858952c6",
   "metadata": {},
   "outputs": [
    {
     "name": "stdout",
     "output_type": "stream",
     "text": [
      "https://news.naver.com/section/101 경제 뉴스\n",
      "200 True\n",
      "46\n",
      "1 프리즘, 제4회 청룡시리즈어워즈 생중계…\"전 세계 325만명 시청\" https://n.news.naver.com/mnews/article/138/0002201095\n",
      "2 조종사노조 \"항철위의 조종사 과실 프레임, 법적대응 검토\" https://n.news.naver.com/mnews/article/422/0000762597\n",
      "3 LG '엑사원' B2B 생태계 만든다…\"AI 글로벌 톱3 도약할 것\" https://n.news.naver.com/mnews/article/011/0004512227\n",
      "4 여름 휴가 정점 8월 2, 3일 서울~부산·부산~서울 각각  6시간 10분 걸릴 듯 https://n.news.naver.com/mnews/article/658/0000114373\n",
      "5 대기업 M&A 성과 1위는?…매출 140% 늘어난 '이곳' https://n.news.naver.com/mnews/article/011/0004512171\n",
      "6 코스피 장중 연고점 찍고 하락…코스닥도 하락 마감 https://n.news.naver.com/mnews/article/056/0011993890\n",
      "7 한미, 25일 미국서 ‘2+2’ 통상협의…막판 총력전 https://n.news.naver.com/mnews/article/056/0011993755\n",
      "8 하나證, 퇴직연금 DB형 원리금 보장 상품 2분기 수익률 1위 https://n.news.naver.com/mnews/article/011/0004512120\n",
      "9 한화에어로, 누리호 기술 이전받는다…25일 항우연과 체결식 https://n.news.naver.com/mnews/article/032/0003384593\n",
      "10 코로나부터 반도체·관세 파고까지...현대차는 어떻게 버텼나 https://n.news.naver.com/mnews/article/277/0005625841\n",
      "11 \"직장인이 비싼 장어덮밥 어떻게 먹나요\"…여기선 1만원도 안 한다고? https://n.news.naver.com/mnews/article/011/0004512316\n",
      "12 \"코스피 5000 외치더니\"…세금 정책 엇박자에 개미들 '분통' https://n.news.naver.com/mnews/article/448/0000544380\n",
      "13 소비쿠폰 ‘지류형’ 탐나는전 쏠림 현상…이유는? https://n.news.naver.com/mnews/article/056/0011994210\n",
      "14 \"15만원 소비쿠폰 13만원에 팝니다\"…불법 거래 걸리면 처벌 https://n.news.naver.com/mnews/article/448/0000544377\n",
      "15 엔진 잘못 껐다는데…당겨진 왼쪽 ‘파이어 핸들’ 왜? https://n.news.naver.com/mnews/article/056/0011994171\n",
      "16 내구성 향상에 잘빠진 디자인… 갤 Z폴드·플립7 인기 절정 https://n.news.naver.com/mnews/article/022/0004053904\n",
      "17 존슨앤드존슨 호실적에 유한양행 '방긋'⋯\"왜?\" https://n.news.naver.com/mnews/article/031/0000950927\n",
      "18 [단독] 한국에 일하러 왔다 날벼락…인신매매 인정됐다 https://n.news.naver.com/mnews/article/055/0001277579\n",
      "19 ‘황’의 이메일 회신이 5분 만에… [시총 4조달러 엔비디아···HOW?] https://n.news.naver.com/mnews/article/024/0000098709\n",
      "20 韓 반도체는 깨어날 줄 모르고 [AI 칩 전쟁…한국은 없다?] https://n.news.naver.com/mnews/article/024/0000098708\n",
      "21 3년 내 절반 사라질까…기로에 선 韓 석화 https://n.news.naver.com/mnews/article/024/0000098707\n",
      "22 집토끼‘ 잡아 한숨 돌렸지만…사상 최대 위기라는 SKT https://n.news.naver.com/mnews/article/024/0000098706\n",
      "23 3700억 LG家 급식 시장 D&O·LF ‘군침’? https://n.news.naver.com/mnews/article/024/0000098705\n",
      "24 [데일리안 오늘뉴스 종합] 법원, '李대통령 피고' 대북송금 재판 연기…5개 형사재판 모두 중단, 李대통령, 강선우 후보자 청문보고서 재송부 요청…금주 내 임명할 듯 등 https://n.news.naver.com/mnews/article/119/0002982373\n",
      "25 단통법 폐지되자 '들썩'…\"지원금 많아도 주의해야\" 왜? https://n.news.naver.com/mnews/article/055/0001277573\n",
      "26 한때 유니콘 기대주였는데…스타트업 도산에 VC도 흔들 https://n.news.naver.com/mnews/article/018/0006071558\n",
      "27 자영업엔 득·소비자엔 독?… ‘배달 수수료 상한제’ 논쟁 격화 https://n.news.naver.com/mnews/article/022/0004053892\n",
      "28 이래도 금리 안내릴거야?...“연준 기능 재검토” “파월 형사고발” 압박 높인 트럼프 군단 https://n.news.naver.com/mnews/article/009/0005529481\n",
      "29 \"커피만 마셔도 살 빠져\" 이 말 진짜?…9가지 근거 보니 https://n.news.naver.com/mnews/article/008/0005225400\n",
      "30 “전세 만기됐는데 6400만원 올려달래요”...서울 국평 전세 6억 돌파 https://n.news.naver.com/mnews/article/009/0005529480\n",
      "31 \"젠슨 황, 워싱턴에서 팀쿡과 머스크 영향력 제쳐\" https://n.news.naver.com/mnews/article/015/0005161396\n",
      "32 \"직장인 안심대출 상담\" 이런 광고 많이 봤는데…무심코 번호 남겼다가 이럴줄은 https://n.news.naver.com/mnews/article/011/0004512301\n",
      "33 소비쿠폰 쓰려다가 '화들짝'…\"여기서는 못써요\" 응답에 '당황'한 소비자 https://n.news.naver.com/mnews/article/277/0005626454\n",
      "34 '불경기 직격탄' 식품가, 2Q 어닝쇼크 이어지나…삼양식품·오리온은 好好 https://n.news.naver.com/mnews/article/003/0013378650\n",
      "35 11년 만에 '단통법 폐지' 첫날‥'공짜폰' 다시 나오나? https://n.news.naver.com/mnews/article/214/0001438099\n",
      "36 ‘해수부 부산 시대’ 조선·해양플랜트까지 업무 넓혀야 https://n.news.naver.com/mnews/article/082/0001336713\n",
      "37 소비쿠폰 신청 '폭주' 이미 1조 원 넘어‥\"농축산물 사러 가요 https://n.news.naver.com/mnews/article/214/0001438092\n",
      "38 GS건설·HDC현산에 포스코까지…송파 한양2차 재건축 3파전 되나 [집슐랭] https://n.news.naver.com/mnews/article/011/0004512296\n",
      "39 범죄조직에 가상계좌 발급 PG사 대거 ‘덜미’ https://n.news.naver.com/mnews/article/022/0004053885\n",
      "40 오늘부터 단통법 폐지…휴대폰 판매점 '보조금 눈치싸움' 시작됐다 https://n.news.naver.com/mnews/article/057/0001898254\n",
      "41 \"낙관론 지나치다…'그날' 오면 美 증시 급락\" 폭탄 전망 https://n.news.naver.com/mnews/article/015/0005161393\n",
      "42 오너·상장·소액주주…주주 충실의무 시대에 사라져야 할 용어들[천준범의 기승전 거버넌스] https://n.news.naver.com/mnews/article/032/0003384597\n",
      "43 [단독] 제주항공 참사 '콘크리트 둔덕' 조사 결과 8월에 나온다 https://n.news.naver.com/mnews/article/422/0000762669\n",
      "44 코스피 3100~3200 고지전 치열…박스권 우려 https://n.news.naver.com/mnews/article/658/0000114485\n",
      "45 [단독] 퇴직 후 인생 2막, 열자마자 망한다…5060 개인파산 역대 최대 https://n.news.naver.com/mnews/article/009/0005529468\n",
      "46 벤츠 최고급 S580 3년 만에 서스펜스 폭삭…수리비 800만 원 화냈더니 '공짜', 손님이 호구? https://n.news.naver.com/mnews/article/057/0001898239\n"
     ]
    }
   ],
   "source": [
    "print_news('경제')"
   ]
  },
  {
   "cell_type": "markdown",
   "id": "323196dc",
   "metadata": {},
   "source": [
    "### 2. Image 다운로드\n",
    "* referer 요청 헤더를 반드시 설정해야 한다."
   ]
  },
  {
   "cell_type": "code",
   "execution_count": null,
   "id": "c72d6cb1",
   "metadata": {},
   "outputs": [
    {
     "name": "stdout",
     "output_type": "stream",
     "text": [
      "True 200\n",
      "20250609204952_371810a746fd64e5cab0a6f546e5e690_IMAG01_30.jpg\n",
      "Writing to 20250609204952_371810a746fd64e5cab0a6f546e5e690_IMAG01_30.jpg(229653)\n",
      "True 200\n",
      "20250609204952_371810a746fd64e5cab0a6f546e5e690_IMAG01_31.jpg\n",
      "Writing to 20250609204952_371810a746fd64e5cab0a6f546e5e690_IMAG01_31.jpg(111107)\n",
      "True 200\n",
      "20250609204952_371810a746fd64e5cab0a6f546e5e690_IMAG01_32.jpg\n",
      "Writing to 20250609204952_371810a746fd64e5cab0a6f546e5e690_IMAG01_32.jpg(93227)\n"
     ]
    }
   ],
   "source": [
    "import requests\n",
    "import os\n",
    "\n",
    "req_header = {\n",
    "    'referer':'https://comic.naver.com/webtoon/detail?titleId=783053&no=194&week=tue'      \n",
    "}\n",
    "\n",
    "img_urls = [\n",
    "    'https://image-comic.pstatic.net/webtoon/783053/194/20250609204952_371810a746fd64e5cab0a6f546e5e690_IMAG01_30.jpg',\n",
    "    'https://image-comic.pstatic.net/webtoon/783053/194/20250609204952_371810a746fd64e5cab0a6f546e5e690_IMAG01_31.jpg',\n",
    "    'https://image-comic.pstatic.net/webtoon/783053/194/20250609204952_371810a746fd64e5cab0a6f546e5e690_IMAG01_32.jpg'\n",
    "]\n",
    "\n",
    "for img_url in img_urls:\n",
    "    # requests 의 get(url, headers) 함수 호출하기 \n",
    "    res = requests.get(img_url,headers=req_header)\n",
    "    print(res.ok, res.status_code) \n",
    "    if res.ok:      \n",
    "        # binary 응답 데이터 가져오기\n",
    "        img_data = res.content\n",
    "        # url에서 파일명만 추출하기\n",
    "        file_name = os.path.basename(img_url)\n",
    "        # binday data를 file에 write하기\n",
    "        with open(file_name, 'wb') as file:\n",
    "            print(f'Writing to {file_name}({len(img_data)})')\n",
    "            file.write(img_data)\n"
   ]
  },
  {
   "cell_type": "markdown",
   "id": "e8b00a04",
   "metadata": {},
   "source": [
    "* 현재 요청된 페이지의 image 모두 다운로드 해보기"
   ]
  },
  {
   "cell_type": "code",
   "execution_count": 63,
   "id": "b30f7bf5",
   "metadata": {},
   "outputs": [
    {
     "name": "stdout",
     "output_type": "stream",
     "text": [
      "200\n",
      "335\n",
      "0\n",
      "140\n"
     ]
    }
   ],
   "source": [
    "import requests\n",
    "from bs4 import BeautifulSoup\n",
    "import os\n",
    "\n",
    "webtoon_url = 'https://comic.naver.com/webtoon/detail?titleId=783053&no=194&week=tue'\n",
    "req_header = {\n",
    "    'referer':url,\n",
    "}\n",
    "res = requests.get(webtoon_url)\n",
    "print(res.status_code)\n",
    "if res.ok:\n",
    "    soup = BeautifulSoup(res.text, 'html.parser')\n",
    "    print(len(soup.select(\"img[src$='.jpg']\")))\n",
    "    #https://image-comic.pstatic.net/webtoon\n",
    "    print(len(soup.select(\"img[src^='https://image-comic.pstatic.net/webtoon783053/194/']\")))\n",
    "    print(len(soup.select(\"img[src*='IMAG01']\")))"
   ]
  },
  {
   "cell_type": "markdown",
   "id": "2ac9f5f9",
   "metadata": {},
   "source": [
    "### 3. 파일 업로드 하기\n",
    "* http://httpbin.org/post 업로드 요청을 할 수 있는 url"
   ]
  },
  {
   "cell_type": "code",
   "execution_count": null,
   "id": "04da4790",
   "metadata": {},
   "outputs": [
    {
     "name": "stdout",
     "output_type": "stream",
     "text": [
      "200\n"
     ]
    }
   ],
   "source": [
    "import requests\n",
    "\n",
    "upload_files = {\n",
    "    \n",
    "}\n",
    "#print(upload_files)\n",
    "\n",
    "url = 'http://httpbin.org/post'\n",
    "# file 업로드 하려면 requests의 post 함수에 files 속성을 사용합니다.\n",
    "\n"
   ]
  },
  {
   "cell_type": "markdown",
   "id": "7ad65f12",
   "metadata": {},
   "source": [
    "### 4. 캡챠(이미지) API 호출하기\n",
    "* urllib 사용\n",
    "* 1. 캡차 키 발급 요청\n",
    "  2. 캡차 이미지 요청\n",
    "  3. 사용자 입력값 검증 요청"
   ]
  },
  {
   "cell_type": "code",
   "execution_count": null,
   "id": "bc4ae360-e772-4873-8642-d3494edd34e1",
   "metadata": {},
   "outputs": [],
   "source": [
    "# 캡차 키 발급 요청\n"
   ]
  },
  {
   "cell_type": "code",
   "execution_count": null,
   "id": "7b95b6a0-c218-4792-82a6-da4d80872071",
   "metadata": {},
   "outputs": [],
   "source": [
    "# 캡차 이미지 요청\n"
   ]
  },
  {
   "cell_type": "code",
   "execution_count": null,
   "id": "a79076af-2cd0-4de2-8301-316b9130c55e",
   "metadata": {},
   "outputs": [],
   "source": [
    "#  사용자 입력값 검증 요청\n",
    "\n"
   ]
  },
  {
   "cell_type": "markdown",
   "id": "b7d984a6",
   "metadata": {},
   "source": [
    "* requests를 사용하는 코드로 변경하기\n",
    "* [requests docs](https://requests.readthedocs.io/en/latest/user/quickstart/)"
   ]
  },
  {
   "cell_type": "code",
   "execution_count": null,
   "id": "727b427b",
   "metadata": {
    "scrolled": true
   },
   "outputs": [
    {
     "name": "stdout",
     "output_type": "stream",
     "text": [
      "Error Code: 403\n"
     ]
    }
   ],
   "source": [
    "# 사용자 입력값 검증 요청\n",
    "\n"
   ]
  },
  {
   "cell_type": "markdown",
   "id": "d5e1179a",
   "metadata": {},
   "source": [
    "### 5. 블로그 검색하기"
   ]
  },
  {
   "cell_type": "code",
   "execution_count": null,
   "id": "877d0c7f",
   "metadata": {},
   "outputs": [],
   "source": [
    "import requests\n",
    "import pprint\n",
    "\n",
    "headers = {\n",
    "    'X-Naver-Client-Id': '',\n",
    "    'X-Naver-Client-Secret': '',\n",
    "}\n",
    "\n",
    "payload = {\n",
    "    'query': '파이썬',\n",
    "    'display': 100,\n",
    "    'sort': 'sim'\n",
    "}\n",
    "\n",
    "url = 'https://openapi.naver.com/v1/search/blog.json'\n",
    "\n",
    "\n",
    "# requests get(url, params, headers) 요청 \n",
    "\n",
    "# json() 함수로 응답 결과 가져오오기\n",
    "# 'title' , 'bloggername' , 'description' , 'bloggerlink' , 'link'\n",
    "\n",
    "# 'data/nhnblog.txt' 파일 생성하기\n"
   ]
  }
 ],
 "metadata": {
  "kernelspec": {
   "display_name": "base",
   "language": "python",
   "name": "python3"
  },
  "language_info": {
   "codemirror_mode": {
    "name": "ipython",
    "version": 3
   },
   "file_extension": ".py",
   "mimetype": "text/x-python",
   "name": "python",
   "nbconvert_exporter": "python",
   "pygments_lexer": "ipython3",
   "version": "3.12.7"
  }
 },
 "nbformat": 4,
 "nbformat_minor": 5
}
