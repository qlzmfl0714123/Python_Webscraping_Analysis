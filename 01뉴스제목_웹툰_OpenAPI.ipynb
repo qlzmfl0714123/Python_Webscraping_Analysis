{
 "cells": [
  {
   "cell_type": "markdown",
   "id": "eb0bfa44",
   "metadata": {},
   "source": [
    "## 1. 뉴스제목 가져오기\n",
    "* user-agent 요청헤더를 반드시 설정해야 한다."
   ]
  },
  {
   "cell_type": "code",
   "execution_count": 1,
   "id": "f0d27781",
   "metadata": {},
   "outputs": [
    {
     "name": "stdout",
     "output_type": "stream",
     "text": [
      "Name: requests\n",
      "Version: 2.32.3\n",
      "Summary: Python HTTP for Humans.\n",
      "Home-page: https://requests.readthedocs.io\n",
      "Author: Kenneth Reitz\n",
      "Author-email: me@kennethreitz.org\n",
      "License: Apache-2.0\n",
      "Location: C:\\Users\\user\\anaconda3\\Lib\\site-packages\n",
      "Requires: certifi, charset-normalizer, idna, urllib3\n",
      "Required-by: anaconda-catalogs, anaconda-client, anaconda-cloud-auth, anaconda-project, conda, conda-build, conda-repo-cli, conda_package_streaming, cookiecutter, datashader, jupyterlab_server, panel, requests-file, requests-toolbelt, Sphinx, streamlit, tldextract\n"
     ]
    }
   ],
   "source": [
    "# requests 라이브러리 설치여부 확인\n",
    "!pip show requests"
   ]
  },
  {
   "cell_type": "code",
   "execution_count": 3,
   "id": "f7798ea8",
   "metadata": {},
   "outputs": [
    {
     "name": "stdout",
     "output_type": "stream",
     "text": [
      "Name: beautifulsoup4\n",
      "Version: 4.12.3\n",
      "Summary: Screen-scraping library\n",
      "Home-page: https://www.crummy.com/software/BeautifulSoup/bs4/\n",
      "Author: \n",
      "Author-email: Leonard Richardson <leonardr@segfault.org>\n",
      "License: MIT License\n",
      "Location: C:\\Users\\user\\anaconda3\\Lib\\site-packages\n",
      "Requires: soupsieve\n",
      "Required-by: conda-build, nbconvert\n"
     ]
    }
   ],
   "source": [
    "# beautifulsoup4 라이브러리 설치여부 확인\n",
    "!pip show beautifulsoup4"
   ]
  },
  {
   "cell_type": "code",
   "execution_count": null,
   "id": "bf80a429",
   "metadata": {},
   "outputs": [],
   "source": [
    "# reqeusts, bs4 import\n",
    "import requests \n",
    "# BeautifulSoup import\n",
    "import bs4\n",
    "#beautifulsoup 클래스 import\n",
    "from bs4 import BeautifulSoup"
   ]
  },
  {
   "cell_type": "code",
   "execution_count": 5,
   "id": "9788d6ac",
   "metadata": {},
   "outputs": [
    {
     "name": "stdout",
     "output_type": "stream",
     "text": [
      "requests 버전 = 2.32.3\n",
      "bs4 버전 = 4.12.3\n"
     ]
    }
   ],
   "source": [
    "# requests, bs4 버전 확인하기\n",
    "print(f'requests 버전 = {requests.__version__}')\n",
    "print(f'bs4 버전 = {bs4.__version__}')"
   ]
  },
  {
   "cell_type": "markdown",
   "id": "ccb91def-cde3-4aeb-b0e5-2e7233500333",
   "metadata": {},
   "source": [
    "### 1. 뉴스 제목 추출하기"
   ]
  },
  {
   "cell_type": "code",
   "execution_count": 8,
   "id": "94c12fd6",
   "metadata": {},
   "outputs": [
    {
     "name": "stdout",
     "output_type": "stream",
     "text": [
      "https://news.naver.com/section/105\n"
     ]
    }
   ],
   "source": [
    "# IT/과학 뉴스 \n",
    "req_param = {\n",
    "    'sid': 105\n",
    "}\n",
    "\n",
    "sid = 104\n",
    "#url =f'https://news.naver.com/section/{sid}' \n",
    "url = 'https://news.naver.com/section/{sid}'.format(**req_param)\n",
    "print(url)\n"
   ]
  },
  {
   "cell_type": "code",
   "execution_count": 34,
   "id": "b55b6e0a",
   "metadata": {},
   "outputs": [
    {
     "name": "stdout",
     "output_type": "stream",
     "text": [
      "https://news.naver.com/section/105\n",
      "200 True\n",
      "<class 'requests.models.Response'>\n",
      "<Response [200]>\n",
      "0\n",
      "<class 'bs4.element.ResultSet'>\n",
      "Error Code = 200\n"
     ]
    }
   ],
   "source": [
    "# IT/과학 뉴스 \n",
    "req_param = {\n",
    "    'sid': 105\n",
    "}\n",
    "url = 'https://news.naver.com/section/{sid}'.format(**req_param)\n",
    "print(url)\n",
    "\n",
    "# 요청 헤더 설정 : 브라우저 정보\n",
    "req_header = {\n",
    "    \"user -agent\": \"Mozilla/5.0 (Windows NT 10.0; Win64; x64) AppleWebKit/537.36 (KHTML, like Gecko) Chrome/138.0.0.0 Safari/537.36\"    \n",
    "}\n",
    "\n",
    "# requests 의 get() 함수 호출하기 \n",
    "res=requests.get(url,headers=req_header)\n",
    "print(res.status_code, res.ok)\n",
    "print(type(res))\n",
    "print(res)\n",
    "# 응답(response)이 OK 이면\n",
    "# 응답 (response)에서 text 추출\n",
    "if res.ok:\n",
    "    html = res.text\n",
    "    # BeautifulSoup 객체 생성  \n",
    "    soup = BeautifulSoup(html, \"html.parser\")\n",
    "    #print(soup)\n",
    "# CSS 선택자\n",
    "# print(soup.select(\"div.sa_text a[href*='mnews/article']\"))\n",
    "\n",
    "\n",
    "a_tags = soup.select (\"div.sa_text a[href*='https://n.news.naver.com/mnews.article'].sa_text_title\")\n",
    "print(len(a_tags))\n",
    "print(type(a_tags))\n",
    "\n",
    "# <a> 태그 리스트 순회하기    \n",
    "for idx,a_tags in enumerate(a_tags,1):\n",
    "    if a_tag.text:\n",
    "       title = a_tag.text.strip()\n",
    "       link = a_tag['href']\n",
    "       print(f'{idx} {title} {link}')\n",
    "else:\n",
    "# 응답(response)이 Error 이면 status code 출력    \n",
    "     print(f'Error Code = {res.status_code}')\n"
   ]
  },
  {
   "cell_type": "markdown",
   "id": "45640860-a449-4285-90d7-5f300292b461",
   "metadata": {},
   "source": [
    "### 1.1 뉴스제목 추출하는 함수 선언하기"
   ]
  },
  {
   "cell_type": "code",
   "execution_count": 64,
   "id": "9f2e4ef8",
   "metadata": {},
   "outputs": [],
   "source": [
    "import requests\n",
    "from bs4 import BeautifulSoup\n",
    "\n",
    "#section_dict = {100:'정치',101:'경제',102:'사회',103:'생활/문화',104:'세계',105:'IT/과학'}\n",
    "section_dict = {'정치':100,'경제':101,'사회':102,'생활/문화':103,'세계':104,'IT/과학':105}\n",
    "\n",
    "def print_news(section):  #print_new(103,'생활/문화') \n",
    "    sid = section_dict[section]\n",
    "    url = f'https://news.naver.com/section/{sid}'\n",
    "    print(f'{url} {section} 뉴스')\n",
    "\n",
    "    # 요청 헤더 설정 : 브라우저 정보\n",
    "    req_header = {\n",
    "        \"user-agent\": \"Mozilla/5.0 (Windows NT 10.0; Win64; x64) AppleWebKit/537.36 (KHTML, like Gecko) Chrome/104.0.0.0 Safari/537.36\"\n",
    "    }\n",
    "    # requests 의 get() 함수 호출하기 \n",
    "    res=requests.get(url,headers=req_header)\n",
    "    print(res.status_code, res.ok)\n",
    "    if res.ok:\n",
    "        html = res.text\n",
    "        # BeautifulSoup 객체 생성\n",
    "        soup = BeautifulSoup(html, \"html.parser\")\n",
    "        a_tags = soup.select(\"div.sa_text a[href*='https://n.news.naver.com/mnews/article'].sa_text_title\")\n",
    "        print(len(a_tags))\n",
    "        # <a> 태그 리스트 순회하기\n",
    "        for idx,a_tag in enumerate(a_tags,1):        \n",
    "            if a_tag.text:\n",
    "                title = a_tag.text.strip() # 제목\n",
    "                link = a_tag['href'] # 링크\n",
    "                #print(len(title))\n",
    "                print(f'{idx} {title} {link}')\n",
    "    else:\n",
    "        # 응답(response)이 Error 이면 status code 출력    \n",
    "        print(f'Error Code = {res.status_code}')      \n",
    "\n",
    "   "
   ]
  },
  {
   "cell_type": "code",
   "execution_count": 40,
   "id": "858952c6",
   "metadata": {},
   "outputs": [
    {
     "name": "stdout",
     "output_type": "stream",
     "text": [
      "https://news.naver.com/section/102 사회 뉴스\n",
      "200 True\n",
      "46\n",
      "1 정은경 복지장관 취임 \"국민 중심 의료개혁 추진…공공의료 전면 정비\" https://n.news.naver.com/mnews/article/654/0000132753\n",
      "2 아들에 총 쏜 아버지 시한폭탄까지 설치 https://n.news.naver.com/mnews/article/011/0004511824\n",
      "3 “남편 핸드폰에 몰래”…‘불륜 감시앱’에 6천명 ‘우르르’ 27억 챙겼다 https://n.news.naver.com/mnews/article/081/0003559749\n",
      "4 경기도, 기후보험 도입 100일…78명의 도민에 보험금 지급 https://n.news.naver.com/mnews/article/277/0005625850\n",
      "5 \"공무원 사칭 물품 대리구매 사기\"...서울시 피해주의보 발령[서울] https://n.news.naver.com/mnews/article/052/0002222815\n",
      "6 복지부, 전공의 요구에 “국민 눈높이 맞는 정상화 방안 협의” https://n.news.naver.com/mnews/article/018/0006070496\n",
      "7 내란특검, '평양 무인기' 수사 계속…여인형 참고인 조사 https://n.news.naver.com/mnews/article/422/0000762509\n",
      "8 삼부토건 회장·전 대표 23일 소환… 구속 뒤 첫 조사 https://n.news.naver.com/mnews/article/008/0005225148\n",
      "9 “총으로 아들 살해한 60대, 100% 계획범죄…본능 거슬러” https://n.news.naver.com/mnews/article/018/0006070818\n",
      "10 드론사령관 PC서 유서 발견…긴급 체포 https://n.news.naver.com/mnews/article/449/0000315532\n",
      "11 오요안나 가해자 지목 동료 \"둘 사이좋았다… 괴롭힌 적 없어\" https://n.news.naver.com/mnews/article/469/0000877408\n",
      "12 21대 대선 선거 쟁송 4건... '윤석열 당선' 때보다 확 줄었다 https://n.news.naver.com/mnews/article/047/0002481932\n",
      "13 아버지 사제총기에 살해된 아들 부검…\"총상으로 장기손상\" https://n.news.naver.com/mnews/article/001/0015522910\n",
      "14 'VIP 격노설' 인정 김계환 측 \"대통령이 그런 적 없다니 감히 떠들 수 없었다\" https://n.news.naver.com/mnews/article/047/0002481930\n",
      "15 북한 무인기 침투 조사 계속...여인형 전 방첩사령관 소환 https://n.news.naver.com/mnews/article/052/0002222885\n",
      "16 \"언제까지 대피소 생활할지 걱정\" 간이텐트 속 산청 이재민 근심 https://n.news.naver.com/mnews/article/001/0015522891\n",
      "17 ‘김건희 집사’ 측근 조사하며 수사 확대···“조현상 부회장은 연락 안 받아” https://n.news.naver.com/mnews/article/032/0003384536\n",
      "18 구례 배수펌프장 7곳 준공하고도 작동 안하면 어떡하나 https://n.news.naver.com/mnews/article/016/0002503362\n",
      "19 [속보] 오요안나 사건 첫 재판…가해자 지목 동료 \"괴롭힌 적 없어, 오히려 좋은 관계\" https://n.news.naver.com/mnews/article/088/0000960396\n",
      "20 김재규 재심에 부마단체 \"박정희 독재 재조명 계기로\" https://n.news.naver.com/mnews/article/047/0002481929\n",
      "21 [단독] 윤석열 29일 조사 '도이치 허위발언' 포함…\"네달 맡겼다 손실났다\" 묻는다 https://n.news.naver.com/mnews/article/437/0000449619\n",
      "22 폭우로 비상근무 중인데…구리시장은 '덩실덩실' 춤판 [포크뉴스] https://n.news.naver.com/mnews/article/057/0001898184\n",
      "23 특검, 내일 신한투자증권 대표 소환…삼부 부회장 체포 돌입(종합) https://n.news.naver.com/mnews/article/001/0015522873\n",
      "24 장례도 못 치렀다…가평 캠핑 일가족 중 1명 사망·2명 실종 https://n.news.naver.com/mnews/article/015/0005161193\n",
      "25 물난리 끝나니 또 물난리... 단수된 울산 서부권 3일 만에 수도 공급 https://n.news.naver.com/mnews/article/009/0005529138\n",
      "26 \"성공한 전 부인에 열등감…고통 주려 아들 총격 살해\" https://n.news.naver.com/mnews/article/057/0001898183\n",
      "27 [영상] \"이건 학대\"…털 박박 깎인채 7시간만에 파양된 2살 유기견 https://n.news.naver.com/mnews/article/001/0015522870\n",
      "28 김계환 구속 기로... \"尹 격노 들었다\" 인정하면서도 구속 부당 주장 https://n.news.naver.com/mnews/article/469/0000877402\n",
      "29 교육 차관 \"AI 교과서 교육자료화, 장기적으로 장점 훨씬 많아\" https://n.news.naver.com/mnews/article/421/0008385545\n",
      "30 “자녀보호 앱인 줄 알았더니 외도 감시용” 불법 감청앱으로 27억 챙긴 일당 적발 https://n.news.naver.com/mnews/article/009/0005529135\n",
      "31 7개월 쌍둥이 살해한 아내... 남편 \"제가 다정했으면\" 눈물로 선처 구했다 https://n.news.naver.com/mnews/article/469/0000877400\n",
      "32 2년 만에 VIP 격노설 인정한 김계환…\"소문으로 들어\" https://n.news.naver.com/mnews/article/018/0006071133\n",
      "33 한국노총 위원장, 김총리에 '정년연장·노란봉투법' 촉구 https://n.news.naver.com/mnews/article/018/0006071132\n",
      "34 [영상] \"더 늦기 전에...\" 각계 원로, 세종호텔·한국옵티칼 문제 해결 촉구 https://n.news.naver.com/mnews/article/047/0002481927\n",
      "35 \"제주도 보다 더한 비계 삼겹살\"…육지랑 다른 맛이라더니 사실 '찌개용' 고기였다 https://n.news.naver.com/mnews/article/011/0004512154\n",
      "36 한국노총, 국무총리에 노란봉투법·정년연장 당부…\"소통 정례화\" https://n.news.naver.com/mnews/article/003/0013378116\n",
      "37 광주 덮친 수해 쓰레기만 600t…지자체 '골머리' https://n.news.naver.com/mnews/article/001/0015522863\n",
      "38 “고작 ‘10만원’ 훔치려고”…20년 지기 친구 살해 男, 무기징역 https://n.news.naver.com/mnews/article/009/0005529130\n",
      "39 수사기소 분리-민생범죄 척결 두마리 토끼 잡겠다는 정성호, 가능할까 https://n.news.naver.com/mnews/article/008/0005225259\n",
      "40 \"복구 도와주세요\"...실종 4명도 사흘째 수색 https://n.news.naver.com/mnews/article/052/0002222881\n",
      "41 '악취' 화장실 앞에서 무너지는 버스기사…\"요의 참고 운전대 잡는 게 일상\" https://n.news.naver.com/mnews/article/079/0004047832\n",
      "42 독박 육아 스트레스에 7개월 쌍둥이 살해 친모…남편 “다 내 탓” 선처 호소 https://n.news.naver.com/mnews/article/009/0005529120\n",
      "43 ‘시간당 극한호우’ 가장 많은 달, “8월→7월로 앞당겨질 것” https://n.news.naver.com/mnews/article/028/0002757357\n",
      "44 '집회서 15억 모금' 전광훈 목사…檢, 징역 10월 구형 https://n.news.naver.com/mnews/article/003/0013378097\n",
      "45 김건희 특검팀 \"尹부부 소환 통보 후 출석의사 아직 듣지 못해\" https://n.news.naver.com/mnews/article/003/0013378096\n",
      "46 의정부고에 나타난 방시혁·과즙세연?…올해도 빵 터진 졸업사진 https://n.news.naver.com/mnews/article/422/0000762559\n"
     ]
    }
   ],
   "source": [
    "print_news('사회')"
   ]
  },
  {
   "cell_type": "markdown",
   "id": "323196dc",
   "metadata": {},
   "source": [
    "### 2. Image 다운로드\n",
    "* referer 요청 헤더를 반드시 설정해야 한다."
   ]
  },
  {
   "cell_type": "code",
   "execution_count": null,
   "id": "c72d6cb1",
   "metadata": {},
   "outputs": [
    {
     "name": "stdout",
     "output_type": "stream",
     "text": [
      "True 200\n",
      "20250609204952_371810a746fd64e5cab0a6f546e5e690_IMAG01_30.jpg\n",
      "Writing to 20250609204952_371810a746fd64e5cab0a6f546e5e690_IMAG01_30.jpg(229653)\n",
      "True 200\n",
      "20250609204952_371810a746fd64e5cab0a6f546e5e690_IMAG01_31.jpg\n",
      "Writing to 20250609204952_371810a746fd64e5cab0a6f546e5e690_IMAG01_31.jpg(111107)\n",
      "True 200\n",
      "20250609204952_371810a746fd64e5cab0a6f546e5e690_IMAG01_32.jpg\n",
      "Writing to 20250609204952_371810a746fd64e5cab0a6f546e5e690_IMAG01_32.jpg(93227)\n"
     ]
    }
   ],
   "source": [
    "import requests\n",
    "import os\n",
    "\n",
    "req_header = {\n",
    "    'referer':'https://comic.naver.com/webtoon/detail?titleId=783053&no=194&week=tue'      \n",
    "}\n",
    "\n",
    "img_urls = [\n",
    "    'https://image-comic.pstatic.net/webtoon/783053/194/20250609204952_371810a746fd64e5cab0a6f546e5e690_IMAG01_30.jpg',\n",
    "    'https://image-comic.pstatic.net/webtoon/783053/194/20250609204952_371810a746fd64e5cab0a6f546e5e690_IMAG01_31.jpg',\n",
    "    'https://image-comic.pstatic.net/webtoon/783053/194/20250609204952_371810a746fd64e5cab0a6f546e5e690_IMAG01_32.jpg'\n",
    "]\n",
    "\n",
    "for img_url in img_urls:\n",
    "    # requests 의 get(url, headers) 함수 호출하기 \n",
    "    res = requests.get(img_url,headers=req_header)\n",
    "    print(res.ok, res.status_code) \n",
    "    if res.ok:      \n",
    "        # binary 응답 데이터 가져오기\n",
    "        img_data = res.content\n",
    "        # url에서 파일명만 추출하기\n",
    "        file_name = os.path.basename(img_url)\n",
    "        # binday data를 file에 write하기\n",
    "        with open(file_name, 'wb') as file:\n",
    "            print(f'Writing to {file_name}({len(img_data)})')\n",
    "            file.write(img_data)\n"
   ]
  },
  {
   "cell_type": "markdown",
   "id": "e8b00a04",
   "metadata": {},
   "source": [
    "* 현재 요청된 페이지의 image 모두 다운로드 해보기"
   ]
  },
  {
   "cell_type": "code",
   "execution_count": 63,
   "id": "b30f7bf5",
   "metadata": {},
   "outputs": [
    {
     "name": "stdout",
     "output_type": "stream",
     "text": [
      "200\n",
      "335\n",
      "0\n",
      "140\n"
     ]
    }
   ],
   "source": [
    "import requests\n",
    "from bs4 import BeautifulSoup\n",
    "import os\n",
    "\n",
    "webtoon_url = 'https://comic.naver.com/webtoon/detail?titleId=783053&no=194&week=tue'\n",
    "req_header = {\n",
    "    'referer':url,\n",
    "}\n",
    "res = requests.get(webtoon_url)\n",
    "print(res.status_code)\n",
    "if res.ok:\n",
    "    soup = BeautifulSoup(res.text, 'html.parser')\n",
    "    print(len(soup.select(\"img[src$='.jpg']\")))\n",
    "    #https://image-comic.pstatic.net/webtoon\n",
    "    print(len(soup.select(\"img[src^='https://image-comic.pstatic.net/webtoon783053/194/']\")))\n",
    "    print(len(soup.select(\"img[src*='IMAG01']\")))"
   ]
  },
  {
   "cell_type": "markdown",
   "id": "2ac9f5f9",
   "metadata": {},
   "source": [
    "### 3. 파일 업로드 하기\n",
    "* http://httpbin.org/post 업로드 요청을 할 수 있는 url"
   ]
  },
  {
   "cell_type": "code",
   "execution_count": null,
   "id": "04da4790",
   "metadata": {},
   "outputs": [
    {
     "name": "stdout",
     "output_type": "stream",
     "text": [
      "200\n"
     ]
    }
   ],
   "source": [
    "import requests\n",
    "\n",
    "upload_files = {\n",
    "    \n",
    "}\n",
    "#print(upload_files)\n",
    "\n",
    "url = 'http://httpbin.org/post'\n",
    "# file 업로드 하려면 requests의 post 함수에 files 속성을 사용합니다.\n",
    "\n"
   ]
  },
  {
   "cell_type": "markdown",
   "id": "7ad65f12",
   "metadata": {},
   "source": [
    "### 4. 캡챠(이미지) API 호출하기\n",
    "* urllib 사용\n",
    "* 1. 캡차 키 발급 요청\n",
    "  2. 캡차 이미지 요청\n",
    "  3. 사용자 입력값 검증 요청"
   ]
  },
  {
   "cell_type": "code",
   "execution_count": null,
   "id": "bc4ae360-e772-4873-8642-d3494edd34e1",
   "metadata": {},
   "outputs": [],
   "source": [
    "# 캡차 키 발급 요청\n"
   ]
  },
  {
   "cell_type": "code",
   "execution_count": null,
   "id": "7b95b6a0-c218-4792-82a6-da4d80872071",
   "metadata": {},
   "outputs": [],
   "source": [
    "# 캡차 이미지 요청\n"
   ]
  },
  {
   "cell_type": "code",
   "execution_count": null,
   "id": "a79076af-2cd0-4de2-8301-316b9130c55e",
   "metadata": {},
   "outputs": [],
   "source": [
    "#  사용자 입력값 검증 요청\n",
    "\n"
   ]
  },
  {
   "cell_type": "markdown",
   "id": "b7d984a6",
   "metadata": {},
   "source": [
    "* requests를 사용하는 코드로 변경하기\n",
    "* [requests docs](https://requests.readthedocs.io/en/latest/user/quickstart/)"
   ]
  },
  {
   "cell_type": "code",
   "execution_count": null,
   "id": "727b427b",
   "metadata": {
    "scrolled": true
   },
   "outputs": [
    {
     "name": "stdout",
     "output_type": "stream",
     "text": [
      "Error Code: 403\n"
     ]
    }
   ],
   "source": [
    "# 사용자 입력값 검증 요청\n",
    "\n"
   ]
  },
  {
   "cell_type": "markdown",
   "id": "d5e1179a",
   "metadata": {},
   "source": [
    "### 5. 블로그 검색하기"
   ]
  },
  {
   "cell_type": "code",
   "execution_count": null,
   "id": "877d0c7f",
   "metadata": {},
   "outputs": [],
   "source": [
    "import requests\n",
    "import pprint\n",
    "\n",
    "headers = {\n",
    "    'X-Naver-Client-Id': '',\n",
    "    'X-Naver-Client-Secret': '',\n",
    "}\n",
    "\n",
    "payload = {\n",
    "    'query': '파이썬',\n",
    "    'display': 100,\n",
    "    'sort': 'sim'\n",
    "}\n",
    "\n",
    "url = 'https://openapi.naver.com/v1/search/blog.json'\n",
    "\n",
    "\n",
    "# requests get(url, params, headers) 요청 \n",
    "\n",
    "# json() 함수로 응답 결과 가져오오기\n",
    "# 'title' , 'bloggername' , 'description' , 'bloggerlink' , 'link'\n",
    "\n",
    "# 'data/nhnblog.txt' 파일 생성하기\n"
   ]
  }
 ],
 "metadata": {
  "kernelspec": {
   "display_name": "base",
   "language": "python",
   "name": "python3"
  },
  "language_info": {
   "codemirror_mode": {
    "name": "ipython",
    "version": 3
   },
   "file_extension": ".py",
   "mimetype": "text/x-python",
   "name": "python",
   "nbconvert_exporter": "python",
   "pygments_lexer": "ipython3",
   "version": "3.12.7"
  }
 },
 "nbformat": 4,
 "nbformat_minor": 5
}
