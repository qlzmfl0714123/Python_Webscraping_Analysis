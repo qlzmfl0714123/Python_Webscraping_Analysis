{
 "cells": [
  {
   "cell_type": "code",
   "execution_count": 4,
   "id": "2666e6d1",
   "metadata": {},
   "outputs": [],
   "source": [
    "import pandas as pd\n",
    "import matplotlib\n",
    "import matplotlib.pyplot as plt\n",
    "import matplotlib.font_manager as fm\n",
    "import seaborn as sns"
   ]
  },
  {
   "cell_type": "code",
   "execution_count": 5,
   "id": "7f3df2aa",
   "metadata": {},
   "outputs": [
    {
     "name": "stdout",
     "output_type": "stream",
     "text": [
      "Malgun Gothic\n"
     ]
    }
   ],
   "source": [
    "font_path = 'C:\\\\windows\\\\Fonts\\\\malgun.ttf'\n",
    "font_prop = fm.FontProperties(fname=font_path).get_name()\n",
    "print(font_prop)\n",
    "matplotlib.rc('font', family=font_prop)"
   ]
  },
  {
   "cell_type": "code",
   "execution_count": 6,
   "id": "5e5a0f53",
   "metadata": {},
   "outputs": [
    {
     "name": "stdout",
     "output_type": "stream",
     "text": [
      "       행정기관코드   행정기관      총인구수       세대수  세대당 인구    남자 인구수    여자 인구수  남여 비율\n",
      "0  1000000000     전국  51217221  24118928    2.12  25498324  25718897   0.99\n",
      "1  1100000000  서울특별시   9331828   4482063    2.08   4505355   4826473   0.93\n",
      "2  2600000000  부산광역시   3266598   1570403    2.08   1589912   1676686   0.95\n",
      "3  2700000000  대구광역시   2363629   1104130    2.14   1159601   1204028   0.96\n",
      "4  2800000000  인천광역시   3021010   1373827    2.20   1509243   1511767   1.00\n"
     ]
    }
   ],
   "source": [
    "# 인구현황.csv 로드하여 DataFrame 객체생성 , 변수명은 df_all \n",
    "df_all = pd.read_csv('../data/인구현황.csv', encoding='utf-8')\n",
    "print(df_all.head())"
   ]
  },
  {
   "cell_type": "code",
   "execution_count": 7,
   "id": "29a85f4c",
   "metadata": {},
   "outputs": [
    {
     "data": {
      "text/html": [
       "<div>\n",
       "<style scoped>\n",
       "    .dataframe tbody tr th:only-of-type {\n",
       "        vertical-align: middle;\n",
       "    }\n",
       "\n",
       "    .dataframe tbody tr th {\n",
       "        vertical-align: top;\n",
       "    }\n",
       "\n",
       "    .dataframe thead th {\n",
       "        text-align: right;\n",
       "    }\n",
       "</style>\n",
       "<table border=\"1\" class=\"dataframe\">\n",
       "  <thead>\n",
       "    <tr style=\"text-align: right;\">\n",
       "      <th></th>\n",
       "      <th>행정기관코드</th>\n",
       "      <th>행정기관</th>\n",
       "      <th>총인구수</th>\n",
       "      <th>세대수</th>\n",
       "      <th>세대당 인구</th>\n",
       "      <th>남자 인구수</th>\n",
       "      <th>여자 인구수</th>\n",
       "      <th>남여 비율</th>\n",
       "    </tr>\n",
       "  </thead>\n",
       "  <tbody>\n",
       "    <tr>\n",
       "      <th>1</th>\n",
       "      <td>1100000000</td>\n",
       "      <td>서울특별시</td>\n",
       "      <td>9331828</td>\n",
       "      <td>4482063</td>\n",
       "      <td>2.08</td>\n",
       "      <td>4505355</td>\n",
       "      <td>4826473</td>\n",
       "      <td>0.93</td>\n",
       "    </tr>\n",
       "    <tr>\n",
       "      <th>2</th>\n",
       "      <td>2600000000</td>\n",
       "      <td>부산광역시</td>\n",
       "      <td>3266598</td>\n",
       "      <td>1570403</td>\n",
       "      <td>2.08</td>\n",
       "      <td>1589912</td>\n",
       "      <td>1676686</td>\n",
       "      <td>0.95</td>\n",
       "    </tr>\n",
       "    <tr>\n",
       "      <th>3</th>\n",
       "      <td>2700000000</td>\n",
       "      <td>대구광역시</td>\n",
       "      <td>2363629</td>\n",
       "      <td>1104130</td>\n",
       "      <td>2.14</td>\n",
       "      <td>1159601</td>\n",
       "      <td>1204028</td>\n",
       "      <td>0.96</td>\n",
       "    </tr>\n",
       "    <tr>\n",
       "      <th>4</th>\n",
       "      <td>2800000000</td>\n",
       "      <td>인천광역시</td>\n",
       "      <td>3021010</td>\n",
       "      <td>1373827</td>\n",
       "      <td>2.20</td>\n",
       "      <td>1509243</td>\n",
       "      <td>1511767</td>\n",
       "      <td>1.00</td>\n",
       "    </tr>\n",
       "    <tr>\n",
       "      <th>5</th>\n",
       "      <td>2900000000</td>\n",
       "      <td>광주광역시</td>\n",
       "      <td>1408422</td>\n",
       "      <td>658075</td>\n",
       "      <td>2.14</td>\n",
       "      <td>695224</td>\n",
       "      <td>713198</td>\n",
       "      <td>0.97</td>\n",
       "    </tr>\n",
       "  </tbody>\n",
       "</table>\n",
       "</div>"
      ],
      "text/plain": [
       "       행정기관코드   행정기관     총인구수      세대수  세대당 인구   남자 인구수   여자 인구수  남여 비율\n",
       "1  1100000000  서울특별시  9331828  4482063    2.08  4505355  4826473   0.93\n",
       "2  2600000000  부산광역시  3266598  1570403    2.08  1589912  1676686   0.95\n",
       "3  2700000000  대구광역시  2363629  1104130    2.14  1159601  1204028   0.96\n",
       "4  2800000000  인천광역시  3021010  1373827    2.20  1509243  1511767   1.00\n",
       "5  2900000000  광주광역시  1408422   658075    2.14   695224   713198   0.97"
      ]
     },
     "execution_count": 7,
     "metadata": {},
     "output_type": "execute_result"
    }
   ],
   "source": [
    "# 전국 데이터는 제거하고 새로운 DataFrame 생성, 변수명은 df\n",
    "df = df_all.loc[df_all['행정기관'] != '전국'].copy()\n",
    "df.head()"
   ]
  },
  {
   "cell_type": "code",
   "execution_count": 8,
   "id": "5bcb454f",
   "metadata": {},
   "outputs": [
    {
     "name": "stdout",
     "output_type": "stream",
     "text": [
      "\n",
      "결측치 확인:\n",
      "행정기관코드    0\n",
      "행정기관      0\n",
      "총인구수      0\n",
      "세대수       0\n",
      "세대당 인구    0\n",
      "남자 인구수    0\n",
      "여자 인구수    0\n",
      "남여 비율     0\n",
      "dtype: int64\n"
     ]
    }
   ],
   "source": [
    "print(\"\\n결측치 확인:\")\n",
    "print(df.isnull().sum())"
   ]
  },
  {
   "cell_type": "markdown",
   "id": "ee6b7a96",
   "metadata": {},
   "source": [
    "##### 1. 지역별 총인구수 Top5\n"
   ]
  },
  {
   "cell_type": "code",
   "execution_count": 9,
   "id": "a0d2bde5",
   "metadata": {},
   "outputs": [
    {
     "name": "stdout",
     "output_type": "stream",
     "text": [
      "1. 지역별 총인구수 Top5\n"
     ]
    },
    {
     "data": {
      "text/html": [
       "<div>\n",
       "<style scoped>\n",
       "    .dataframe tbody tr th:only-of-type {\n",
       "        vertical-align: middle;\n",
       "    }\n",
       "\n",
       "    .dataframe tbody tr th {\n",
       "        vertical-align: top;\n",
       "    }\n",
       "\n",
       "    .dataframe thead th {\n",
       "        text-align: right;\n",
       "    }\n",
       "</style>\n",
       "<table border=\"1\" class=\"dataframe\">\n",
       "  <thead>\n",
       "    <tr style=\"text-align: right;\">\n",
       "      <th></th>\n",
       "      <th>행정기관</th>\n",
       "      <th>총인구수</th>\n",
       "    </tr>\n",
       "  </thead>\n",
       "  <tbody>\n",
       "    <tr>\n",
       "      <th>0</th>\n",
       "      <td>경기도</td>\n",
       "      <td>13694685</td>\n",
       "    </tr>\n",
       "    <tr>\n",
       "      <th>1</th>\n",
       "      <td>서울특별시</td>\n",
       "      <td>9331828</td>\n",
       "    </tr>\n",
       "    <tr>\n",
       "      <th>2</th>\n",
       "      <td>부산광역시</td>\n",
       "      <td>3266598</td>\n",
       "    </tr>\n",
       "    <tr>\n",
       "      <th>3</th>\n",
       "      <td>경상남도</td>\n",
       "      <td>3228380</td>\n",
       "    </tr>\n",
       "    <tr>\n",
       "      <th>4</th>\n",
       "      <td>인천광역시</td>\n",
       "      <td>3021010</td>\n",
       "    </tr>\n",
       "  </tbody>\n",
       "</table>\n",
       "</div>"
      ],
      "text/plain": [
       "    행정기관      총인구수\n",
       "0    경기도  13694685\n",
       "1  서울특별시   9331828\n",
       "2  부산광역시   3266598\n",
       "3   경상남도   3228380\n",
       "4  인천광역시   3021010"
      ]
     },
     "execution_count": 9,
     "metadata": {},
     "output_type": "execute_result"
    }
   ],
   "source": [
    "df_all = pd.read_csv('../data/인구현황.csv', encoding='utf-8')\n",
    "df_all = df_all.loc[df_all['행정기관'] != '전국']\n",
    "\n",
    "print(\"1. 지역별 총인구수 Top5\")\n",
    "\n",
    "top5 = df_all.groupby('행정기관')['총인구수'].sum().sort_values(ascending=False).head(5)\n",
    "\n",
    "top5_df = top5.reset_index()\n",
    "top5_df.columns = ['행정기관', '총인구수']\n",
    "top5_df\n"
   ]
  },
  {
   "cell_type": "markdown",
   "id": "f678ddeb",
   "metadata": {},
   "source": [
    "##### 1-1. 지역별 총인구수 Plot"
   ]
  },
  {
   "cell_type": "code",
   "execution_count": 10,
   "id": "b801a5c1",
   "metadata": {},
   "outputs": [
    {
     "data": {
      "image/png": "[encoded data removed]",
      "text/plain": [
       "<Figure size 1000x500 with 1 Axes>"
      ]
     },
     "metadata": {},
     "output_type": "display_data"
    }
   ],
   "source": [
    "total_pop = pd.read_csv('../data/인구현황.csv', encoding='utf-8')\n",
    "total_pop = total_pop[total_pop['행정기관'] != '전국']\n",
    "total_pop = total_pop.sort_values(by='총인구수', ascending=False)\n",
    "\n",
    "plt.figure(figsize=(10,5))\n",
    "# seaborn의 barplot() 함수사용\n",
    "sns.barplot(x='행정기관', y='총인구수', data=total_pop)\n",
    "\n",
    "plt.xticks(rotation=45)\n",
    "plt.title('지역별 총인구수')\n",
    "plt.tight_layout()\n",
    "plt.show()"
   ]
  },
  {
   "cell_type": "markdown",
   "id": "d082c2f7",
   "metadata": {},
   "source": [
    "##### 2. 세대당 인구수 높은 지역 Top5"
   ]
  },
  {
   "cell_type": "code",
   "execution_count": 11,
   "id": "6b30374f",
   "metadata": {},
   "outputs": [
    {
     "name": "stdout",
     "output_type": "stream",
     "text": [
      "2. 세대당 인구수 높은 지역 Top5\n"
     ]
    },
    {
     "data": {
      "text/html": [
       "<div>\n",
       "<style scoped>\n",
       "    .dataframe tbody tr th:only-of-type {\n",
       "        vertical-align: middle;\n",
       "    }\n",
       "\n",
       "    .dataframe tbody tr th {\n",
       "        vertical-align: top;\n",
       "    }\n",
       "\n",
       "    .dataframe thead th {\n",
       "        text-align: right;\n",
       "    }\n",
       "</style>\n",
       "<table border=\"1\" class=\"dataframe\">\n",
       "  <thead>\n",
       "    <tr style=\"text-align: right;\">\n",
       "      <th></th>\n",
       "      <th>행정기관</th>\n",
       "      <th>세대당 인구</th>\n",
       "    </tr>\n",
       "  </thead>\n",
       "  <tbody>\n",
       "    <tr>\n",
       "      <th>0</th>\n",
       "      <td>세종특별자치시</td>\n",
       "      <td>2.39</td>\n",
       "    </tr>\n",
       "    <tr>\n",
       "      <th>1</th>\n",
       "      <td>경기도</td>\n",
       "      <td>2.26</td>\n",
       "    </tr>\n",
       "    <tr>\n",
       "      <th>2</th>\n",
       "      <td>울산광역시</td>\n",
       "      <td>2.22</td>\n",
       "    </tr>\n",
       "    <tr>\n",
       "      <th>3</th>\n",
       "      <td>인천광역시</td>\n",
       "      <td>2.20</td>\n",
       "    </tr>\n",
       "    <tr>\n",
       "      <th>4</th>\n",
       "      <td>광주광역시</td>\n",
       "      <td>2.14</td>\n",
       "    </tr>\n",
       "  </tbody>\n",
       "</table>\n",
       "</div>"
      ],
      "text/plain": [
       "      행정기관  세대당 인구\n",
       "0  세종특별자치시    2.39\n",
       "1      경기도    2.26\n",
       "2    울산광역시    2.22\n",
       "3    인천광역시    2.20\n",
       "4    광주광역시    2.14"
      ]
     },
     "execution_count": 11,
     "metadata": {},
     "output_type": "execute_result"
    }
   ],
   "source": [
    "df_all = pd.read_csv('../data/인구현황.csv', encoding='utf-8')\n",
    "df_all = df_all.loc[df_all['행정기관'] != '전국']\n",
    "\n",
    "print(\"2. 세대당 인구수 높은 지역 Top5\")\n",
    "\n",
    "top5 = df_all.groupby('행정기관')['세대당 인구'].sum().sort_values(ascending=False).head(5)\n",
    "\n",
    "top5_df = top5.reset_index()\n",
    "top5_df.columns = ['행정기관', '세대당 인구']\n",
    "top5_df\n",
    "\n"
   ]
  },
  {
   "cell_type": "markdown",
   "id": "6e012319",
   "metadata": {},
   "source": [
    "##### 2-1. 지역별 세대당 인구 Plot"
   ]
  },
  {
   "cell_type": "code",
   "execution_count": 12,
   "id": "ba7d141b",
   "metadata": {},
   "outputs": [
    {
     "data": {
      "image/png": "[encoded data removed]",
      "text/plain": [
       "<Figure size 1000x500 with 1 Axes>"
      ]
     },
     "metadata": {},
     "output_type": "display_data"
    }
   ],
   "source": [
    "total_pop = pd.read_csv('../data/인구현황.csv', encoding='utf-8')\n",
    "total_pop = total_pop[total_pop['행정기관'] != '전국']\n",
    "total_pop = total_pop.sort_values(by='세대당 인구', ascending=False)\n",
    "\n",
    "plt.figure(figsize=(10,5))\n",
    "# seaborn의 barplot() 함수사용\n",
    "sns.barplot(x='행정기관', y='세대당 인구', data=total_pop)\n",
    "\n",
    "plt.xticks(rotation=45)\n",
    "plt.title('지역별 세대당 인구')\n",
    "plt.tight_layout()\n",
    "plt.show()\n"
   ]
  },
  {
   "cell_type": "markdown",
   "id": "7cb9ee94",
   "metadata": {},
   "source": [
    "##### 3. 남녀 비율 분석"
   ]
  },
  {
   "cell_type": "code",
   "execution_count": 13,
   "id": "327637bd",
   "metadata": {},
   "outputs": [
    {
     "name": "stdout",
     "output_type": "stream",
     "text": [
      "3. 남녀 비율 분석\n"
     ]
    },
    {
     "data": {
      "text/html": [
       "<div>\n",
       "<style scoped>\n",
       "    .dataframe tbody tr th:only-of-type {\n",
       "        vertical-align: middle;\n",
       "    }\n",
       "\n",
       "    .dataframe tbody tr th {\n",
       "        vertical-align: top;\n",
       "    }\n",
       "\n",
       "    .dataframe thead th {\n",
       "        text-align: right;\n",
       "    }\n",
       "</style>\n",
       "<table border=\"1\" class=\"dataframe\">\n",
       "  <thead>\n",
       "    <tr style=\"text-align: right;\">\n",
       "      <th></th>\n",
       "      <th>행정기관</th>\n",
       "      <th>남여 비율</th>\n",
       "    </tr>\n",
       "  </thead>\n",
       "  <tbody>\n",
       "    <tr>\n",
       "      <th>0</th>\n",
       "      <td>울산광역시</td>\n",
       "      <td>1.06</td>\n",
       "    </tr>\n",
       "    <tr>\n",
       "      <th>1</th>\n",
       "      <td>충청남도</td>\n",
       "      <td>1.05</td>\n",
       "    </tr>\n",
       "    <tr>\n",
       "      <th>2</th>\n",
       "      <td>충청북도</td>\n",
       "      <td>1.04</td>\n",
       "    </tr>\n",
       "    <tr>\n",
       "      <th>3</th>\n",
       "      <td>경상남도</td>\n",
       "      <td>1.02</td>\n",
       "    </tr>\n",
       "    <tr>\n",
       "      <th>4</th>\n",
       "      <td>경상북도</td>\n",
       "      <td>1.02</td>\n",
       "    </tr>\n",
       "    <tr>\n",
       "      <th>5</th>\n",
       "      <td>전라남도</td>\n",
       "      <td>1.02</td>\n",
       "    </tr>\n",
       "    <tr>\n",
       "      <th>6</th>\n",
       "      <td>경기도</td>\n",
       "      <td>1.01</td>\n",
       "    </tr>\n",
       "    <tr>\n",
       "      <th>7</th>\n",
       "      <td>강원특별자치도</td>\n",
       "      <td>1.01</td>\n",
       "    </tr>\n",
       "    <tr>\n",
       "      <th>8</th>\n",
       "      <td>인천광역시</td>\n",
       "      <td>1.00</td>\n",
       "    </tr>\n",
       "    <tr>\n",
       "      <th>9</th>\n",
       "      <td>제주특별자치도</td>\n",
       "      <td>1.00</td>\n",
       "    </tr>\n",
       "    <tr>\n",
       "      <th>10</th>\n",
       "      <td>세종특별자치시</td>\n",
       "      <td>0.99</td>\n",
       "    </tr>\n",
       "    <tr>\n",
       "      <th>11</th>\n",
       "      <td>대전광역시</td>\n",
       "      <td>0.99</td>\n",
       "    </tr>\n",
       "    <tr>\n",
       "      <th>12</th>\n",
       "      <td>전북특별자치도</td>\n",
       "      <td>0.99</td>\n",
       "    </tr>\n",
       "    <tr>\n",
       "      <th>13</th>\n",
       "      <td>광주광역시</td>\n",
       "      <td>0.97</td>\n",
       "    </tr>\n",
       "    <tr>\n",
       "      <th>14</th>\n",
       "      <td>대구광역시</td>\n",
       "      <td>0.96</td>\n",
       "    </tr>\n",
       "    <tr>\n",
       "      <th>15</th>\n",
       "      <td>부산광역시</td>\n",
       "      <td>0.95</td>\n",
       "    </tr>\n",
       "    <tr>\n",
       "      <th>16</th>\n",
       "      <td>서울특별시</td>\n",
       "      <td>0.93</td>\n",
       "    </tr>\n",
       "  </tbody>\n",
       "</table>\n",
       "</div>"
      ],
      "text/plain": [
       "       행정기관  남여 비율\n",
       "0     울산광역시   1.06\n",
       "1      충청남도   1.05\n",
       "2      충청북도   1.04\n",
       "3      경상남도   1.02\n",
       "4      경상북도   1.02\n",
       "5      전라남도   1.02\n",
       "6       경기도   1.01\n",
       "7   강원특별자치도   1.01\n",
       "8     인천광역시   1.00\n",
       "9   제주특별자치도   1.00\n",
       "10  세종특별자치시   0.99\n",
       "11    대전광역시   0.99\n",
       "12  전북특별자치도   0.99\n",
       "13    광주광역시   0.97\n",
       "14    대구광역시   0.96\n",
       "15    부산광역시   0.95\n",
       "16    서울특별시   0.93"
      ]
     },
     "execution_count": 13,
     "metadata": {},
     "output_type": "execute_result"
    }
   ],
   "source": [
    "df_all = pd.read_csv('../data/인구현황.csv', encoding='utf-8')\n",
    "df_all = df_all.loc[df_all['행정기관'] != '전국']\n",
    "\n",
    "print(\"3. 남녀 비율 분석\")\n",
    "\n",
    "top = df_all.groupby('행정기관')['남여 비율'].sum().sort_values(ascending=False)\n",
    "\n",
    "top_df = top.reset_index()\n",
    "top_df.columns = ['행정기관', '남여 비율']\n",
    "top_df"
   ]
  },
  {
   "cell_type": "markdown",
   "id": "f1465ab3",
   "metadata": {},
   "source": [
    "##### 3-1. 지역별 남녀 비율 Plot\n",
    "* 기준이 되는 빨간선은 pyplot의 axhline() 함수를 사용해 보세요. (선택)"
   ]
  },
  {
   "cell_type": "code",
   "execution_count": 14,
   "id": "db44d757",
   "metadata": {},
   "outputs": [
    {
     "data": {
      "text/plain": [
       "<Figure size 1000x500 with 0 Axes>"
      ]
     },
     "execution_count": 14,
     "metadata": {},
     "output_type": "execute_result"
    },
    {
     "data": {
      "text/plain": [
       "<Figure size 1000x500 with 0 Axes>"
      ]
     },
     "metadata": {},
     "output_type": "display_data"
    }
   ],
   "source": [
    "plt.figure(figsize=(10,5))\n",
    "\n"
   ]
  },
  {
   "cell_type": "markdown",
   "id": "4d7e1413",
   "metadata": {},
   "source": [
    "##### 4. 남자초과 / 여자초과 분석\n",
    "* 남초(남자초과) => 남자 인구가 여자 인구보다 많은 지역\t남여 비율 > 1 또는 남자 인구수 > 여자 인구수\n",
    "* 여초(여자초과) => 여자 인구가 남자 인구보다 많은 지역\t남여 비율 < 1 또는 여자 인구수 > 남자 인구수\n",
    "\n",
    "* 남초여초 컬럼을 추가합니다. "
   ]
  },
  {
   "cell_type": "code",
   "execution_count": 15,
   "id": "b309c976",
   "metadata": {},
   "outputs": [
    {
     "name": "stdout",
     "output_type": "stream",
     "text": [
      "4. 남초 vs 여초 지역 구분\n"
     ]
    },
    {
     "data": {
      "text/html": [
       "<div>\n",
       "<style scoped>\n",
       "    .dataframe tbody tr th:only-of-type {\n",
       "        vertical-align: middle;\n",
       "    }\n",
       "\n",
       "    .dataframe tbody tr th {\n",
       "        vertical-align: top;\n",
       "    }\n",
       "\n",
       "    .dataframe thead th {\n",
       "        text-align: right;\n",
       "    }\n",
       "</style>\n",
       "<table border=\"1\" class=\"dataframe\">\n",
       "  <thead>\n",
       "    <tr style=\"text-align: right;\">\n",
       "      <th></th>\n",
       "      <th>행정기관</th>\n",
       "      <th>남여 비율</th>\n",
       "      <th>성비 구분</th>\n",
       "    </tr>\n",
       "  </thead>\n",
       "  <tbody>\n",
       "    <tr>\n",
       "      <th>0</th>\n",
       "      <td>서울특별시</td>\n",
       "      <td>0.93</td>\n",
       "      <td>여초</td>\n",
       "    </tr>\n",
       "    <tr>\n",
       "      <th>1</th>\n",
       "      <td>부산광역시</td>\n",
       "      <td>0.95</td>\n",
       "      <td>여초</td>\n",
       "    </tr>\n",
       "    <tr>\n",
       "      <th>2</th>\n",
       "      <td>대구광역시</td>\n",
       "      <td>0.96</td>\n",
       "      <td>여초</td>\n",
       "    </tr>\n",
       "    <tr>\n",
       "      <th>3</th>\n",
       "      <td>인천광역시</td>\n",
       "      <td>1.00</td>\n",
       "      <td>여초</td>\n",
       "    </tr>\n",
       "    <tr>\n",
       "      <th>4</th>\n",
       "      <td>광주광역시</td>\n",
       "      <td>0.97</td>\n",
       "      <td>여초</td>\n",
       "    </tr>\n",
       "    <tr>\n",
       "      <th>5</th>\n",
       "      <td>대전광역시</td>\n",
       "      <td>0.99</td>\n",
       "      <td>여초</td>\n",
       "    </tr>\n",
       "    <tr>\n",
       "      <th>6</th>\n",
       "      <td>울산광역시</td>\n",
       "      <td>1.06</td>\n",
       "      <td>남초</td>\n",
       "    </tr>\n",
       "    <tr>\n",
       "      <th>7</th>\n",
       "      <td>세종특별자치시</td>\n",
       "      <td>0.99</td>\n",
       "      <td>여초</td>\n",
       "    </tr>\n",
       "    <tr>\n",
       "      <th>8</th>\n",
       "      <td>경기도</td>\n",
       "      <td>1.01</td>\n",
       "      <td>남초</td>\n",
       "    </tr>\n",
       "    <tr>\n",
       "      <th>9</th>\n",
       "      <td>강원특별자치도</td>\n",
       "      <td>1.01</td>\n",
       "      <td>남초</td>\n",
       "    </tr>\n",
       "    <tr>\n",
       "      <th>10</th>\n",
       "      <td>충청북도</td>\n",
       "      <td>1.04</td>\n",
       "      <td>남초</td>\n",
       "    </tr>\n",
       "    <tr>\n",
       "      <th>11</th>\n",
       "      <td>충청남도</td>\n",
       "      <td>1.05</td>\n",
       "      <td>남초</td>\n",
       "    </tr>\n",
       "    <tr>\n",
       "      <th>12</th>\n",
       "      <td>전북특별자치도</td>\n",
       "      <td>0.99</td>\n",
       "      <td>여초</td>\n",
       "    </tr>\n",
       "    <tr>\n",
       "      <th>13</th>\n",
       "      <td>전라남도</td>\n",
       "      <td>1.02</td>\n",
       "      <td>남초</td>\n",
       "    </tr>\n",
       "    <tr>\n",
       "      <th>14</th>\n",
       "      <td>경상북도</td>\n",
       "      <td>1.02</td>\n",
       "      <td>남초</td>\n",
       "    </tr>\n",
       "    <tr>\n",
       "      <th>15</th>\n",
       "      <td>경상남도</td>\n",
       "      <td>1.02</td>\n",
       "      <td>남초</td>\n",
       "    </tr>\n",
       "    <tr>\n",
       "      <th>16</th>\n",
       "      <td>제주특별자치도</td>\n",
       "      <td>1.00</td>\n",
       "      <td>여초</td>\n",
       "    </tr>\n",
       "  </tbody>\n",
       "</table>\n",
       "</div>"
      ],
      "text/plain": [
       "       행정기관  남여 비율 성비 구분\n",
       "0     서울특별시   0.93    여초\n",
       "1     부산광역시   0.95    여초\n",
       "2     대구광역시   0.96    여초\n",
       "3     인천광역시   1.00    여초\n",
       "4     광주광역시   0.97    여초\n",
       "5     대전광역시   0.99    여초\n",
       "6     울산광역시   1.06    남초\n",
       "7   세종특별자치시   0.99    여초\n",
       "8       경기도   1.01    남초\n",
       "9   강원특별자치도   1.01    남초\n",
       "10     충청북도   1.04    남초\n",
       "11     충청남도   1.05    남초\n",
       "12  전북특별자치도   0.99    여초\n",
       "13     전라남도   1.02    남초\n",
       "14     경상북도   1.02    남초\n",
       "15     경상남도   1.02    남초\n",
       "16  제주특별자치도   1.00    여초"
      ]
     },
     "execution_count": 15,
     "metadata": {},
     "output_type": "execute_result"
    }
   ],
   "source": [
    "df_all = pd.read_csv('../data/인구현황.csv', encoding='utf-8')\n",
    "df_all = df_all.loc[df_all['행정기관'] != '전국']\n",
    "\n",
    "\n",
    "print(\"4. 남초 vs 여초 지역 구분\")\n",
    "\n",
    "top = df_all.groupby('행정기관', sort=False)['남여 비율'].mean()\n",
    "\n",
    "top_df = top.reset_index()\n",
    "top_df.columns = ['행정기관', '남여 비율']\n",
    "\n",
    "top_df['성비 구분'] = top_df['남여 비율'].apply(lambda x: '남초' if x > 1.00 else '여초')\n",
    "\n",
    "top_df"
   ]
  },
  {
   "cell_type": "markdown",
   "id": "ad01cf97",
   "metadata": {},
   "source": [
    "##### 5. 세대당 인구 평균보다 높은 지역"
   ]
  },
  {
   "cell_type": "code",
   "execution_count": 16,
   "id": "c3aeb389",
   "metadata": {},
   "outputs": [
    {
     "name": "stdout",
     "output_type": "stream",
     "text": [
      "5. 세대당 인구 평균보다 높은 지역\n"
     ]
    },
    {
     "data": {
      "text/html": [
       "<div>\n",
       "<style scoped>\n",
       "    .dataframe tbody tr th:only-of-type {\n",
       "        vertical-align: middle;\n",
       "    }\n",
       "\n",
       "    .dataframe tbody tr th {\n",
       "        vertical-align: top;\n",
       "    }\n",
       "\n",
       "    .dataframe thead th {\n",
       "        text-align: right;\n",
       "    }\n",
       "</style>\n",
       "<table border=\"1\" class=\"dataframe\">\n",
       "  <thead>\n",
       "    <tr style=\"text-align: right;\">\n",
       "      <th></th>\n",
       "      <th>행정기관</th>\n",
       "      <th>세대당 인구</th>\n",
       "    </tr>\n",
       "  </thead>\n",
       "  <tbody>\n",
       "    <tr>\n",
       "      <th>0</th>\n",
       "      <td>세종특별자치시</td>\n",
       "      <td>2.39</td>\n",
       "    </tr>\n",
       "    <tr>\n",
       "      <th>1</th>\n",
       "      <td>경기도</td>\n",
       "      <td>2.26</td>\n",
       "    </tr>\n",
       "    <tr>\n",
       "      <th>2</th>\n",
       "      <td>울산광역시</td>\n",
       "      <td>2.22</td>\n",
       "    </tr>\n",
       "    <tr>\n",
       "      <th>3</th>\n",
       "      <td>인천광역시</td>\n",
       "      <td>2.20</td>\n",
       "    </tr>\n",
       "    <tr>\n",
       "      <th>4</th>\n",
       "      <td>광주광역시</td>\n",
       "      <td>2.14</td>\n",
       "    </tr>\n",
       "    <tr>\n",
       "      <th>5</th>\n",
       "      <td>대구광역시</td>\n",
       "      <td>2.14</td>\n",
       "    </tr>\n",
       "    <tr>\n",
       "      <th>6</th>\n",
       "      <td>제주특별자치도</td>\n",
       "      <td>2.13</td>\n",
       "    </tr>\n",
       "    <tr>\n",
       "      <th>7</th>\n",
       "      <td>경상남도</td>\n",
       "      <td>2.10</td>\n",
       "    </tr>\n",
       "    <tr>\n",
       "      <th>8</th>\n",
       "      <td>대전광역시</td>\n",
       "      <td>2.09</td>\n",
       "    </tr>\n",
       "    <tr>\n",
       "      <th>9</th>\n",
       "      <td>서울특별시</td>\n",
       "      <td>2.08</td>\n",
       "    </tr>\n",
       "    <tr>\n",
       "      <th>10</th>\n",
       "      <td>부산광역시</td>\n",
       "      <td>2.08</td>\n",
       "    </tr>\n",
       "    <tr>\n",
       "      <th>11</th>\n",
       "      <td>충청남도</td>\n",
       "      <td>2.03</td>\n",
       "    </tr>\n",
       "    <tr>\n",
       "      <th>12</th>\n",
       "      <td>충청북도</td>\n",
       "      <td>2.02</td>\n",
       "    </tr>\n",
       "    <tr>\n",
       "      <th>13</th>\n",
       "      <td>전북특별자치도</td>\n",
       "      <td>2.01</td>\n",
       "    </tr>\n",
       "    <tr>\n",
       "      <th>14</th>\n",
       "      <td>강원특별자치도</td>\n",
       "      <td>1.98</td>\n",
       "    </tr>\n",
       "    <tr>\n",
       "      <th>15</th>\n",
       "      <td>전라남도</td>\n",
       "      <td>1.96</td>\n",
       "    </tr>\n",
       "    <tr>\n",
       "      <th>16</th>\n",
       "      <td>경상북도</td>\n",
       "      <td>1.96</td>\n",
       "    </tr>\n",
       "  </tbody>\n",
       "</table>\n",
       "</div>"
      ],
      "text/plain": [
       "       행정기관  세대당 인구\n",
       "0   세종특별자치시    2.39\n",
       "1       경기도    2.26\n",
       "2     울산광역시    2.22\n",
       "3     인천광역시    2.20\n",
       "4     광주광역시    2.14\n",
       "5     대구광역시    2.14\n",
       "6   제주특별자치도    2.13\n",
       "7      경상남도    2.10\n",
       "8     대전광역시    2.09\n",
       "9     서울특별시    2.08\n",
       "10    부산광역시    2.08\n",
       "11     충청남도    2.03\n",
       "12     충청북도    2.02\n",
       "13  전북특별자치도    2.01\n",
       "14  강원특별자치도    1.98\n",
       "15     전라남도    1.96\n",
       "16     경상북도    1.96"
      ]
     },
     "execution_count": 16,
     "metadata": {},
     "output_type": "execute_result"
    }
   ],
   "source": [
    "df_all = pd.read_csv('../data/인구현황.csv', encoding='utf-8')\n",
    "df_all = df_all.loc[df_all['행정기관'] != '전국']\n",
    "\n",
    "print(\"5. 세대당 인구 평균보다 높은 지역\")\n",
    "\n",
    "top = df_all.groupby('행정기관')['세대당 인구'].sum().sort_values(ascending=False)\n",
    "\n",
    "top_df = top.reset_index()\n",
    "top_df.columns = ['행정기관', '세대당 인구']\n",
    "top_df"
   ]
  },
  {
   "cell_type": "markdown",
   "id": "1f48dab8",
   "metadata": {},
   "source": [
    "##### 5-1. 남초 vs 여초 개수 Plot  /  지역별 세대수 Plot"
   ]
  },
  {
   "cell_type": "code",
   "execution_count": null,
   "id": "9e228689",
   "metadata": {},
   "outputs": [
    {
     "data": {
      "image/png": "[encoded data removed]",
      "text/plain": [
       "<Figure size 1000x1000 with 2 Axes>"
      ]
     },
     "metadata": {},
     "output_type": "display_data"
    }
   ],
   "source": [
    "df_all = pd.read_csv('../data/인구현황.csv', encoding='utf-8')\n",
    "df_all = df_all[df_all['행정기관'] != '전국']\n",
    "\n",
    "top = df_all.groupby('행정기관', sort=False)['남여 비율'].mean()\n",
    "top_df = top.reset_index()\n",
    "top_df.columns = ['행정기관', '남여 비율']\n",
    "top_df['성비 구분'] = top_df['남여 비율'].apply(lambda x: '남초' if x > 1.00 else '여초')\n",
    "\n",
    "total_pop = df_all.copy()\n",
    "total_pop = total_pop.sort_values(by='세대수', ascending=False)\n",
    "\n",
    "fig, axs = plt.subplots(2, 1, figsize=(10, 10))\n",
    "\n",
    "sns.countplot(data=top_df, x='성비 구분', order=['남초', '여초'], ax=axs[0])\n",
    "axs[0].set_title('남초 vs 여초 지역 개수', fontsize=14)\n",
    "axs[0].set_xlabel('성비 구분')\n",
    "axs[0].set_ylabel('지역 수')\n",
    "axs[0].set_ylim(0, top_df['성비 구분'].value_counts().max() + 2)\n",
    "\n",
    "sns.barplot(x='행정기관', y='세대수', data=total_pop, ax=axs[1])\n",
    "axs[1].set_title('지역별 세대수', fontsize=14)\n",
    "axs[1].set_xlabel('행정기관')\n",
    "axs[1].set_ylabel('세대수')\n",
    "axs[1].tick_params(axis='x', rotation=45)\n",
    "\n",
    "plt.tight_layout()\n",
    "plt.show()"
   ]
  },
  {
   "cell_type": "markdown",
   "id": "a57ee850",
   "metadata": {},
   "source": [
    "##### 6. 남자 인구 vs 여자 인구 비교 Plot(선택)"
   ]
  },
  {
   "cell_type": "code",
   "execution_count": null,
   "id": "b47ed475",
   "metadata": {},
   "outputs": [],
   "source": []
  },
  {
   "cell_type": "markdown",
   "id": "b4ea0081",
   "metadata": {},
   "source": [
    "### 엑셀 리포트 자동 생성 코드"
   ]
  },
  {
   "cell_type": "code",
   "execution_count": 19,
   "id": "3b5ce0c6",
   "metadata": {},
   "outputs": [
    {
     "name": "stdout",
     "output_type": "stream",
     "text": [
      "엑셀 리포트 저장 완료 → '인구분석리포트.xlsx'\n"
     ]
    }
   ],
   "source": [
    "# 엑셀 저장용\n",
    "from pandas import ExcelWriter\n",
    "import datetime\n",
    "\n",
    "# 분석 데이터 준비\n",
    "top5_population = df[['행정기관', '총인구수']].sort_values(by='총인구수', ascending=False).head(5)\n",
    "top5_family = df[['행정기관', '세대당 인구']].sort_values(by='세대당 인구', ascending=False).head(5)\n",
    "male_vs_female = df[['행정기관', '남자 인구수', '여자 인구수']]\n",
    "\n",
    "# 남초/여초 컬럼 추가\n",
    "df['남초여초'] = df['남여 비율'].apply(lambda x: '남초' if x > 1 else ('여초' if x < 1 else '동일'))\n",
    "\n",
    "today = datetime.datetime.now().strftime('%Y%m%d')\n",
    "filename = f'data/인구분석리포트_{today}.xlsx'\n",
    "\n",
    "# Excel 파일로 저장\n",
    "with ExcelWriter(filename, engine='openpyxl') as writer:\n",
    "    df.to_excel(writer, sheet_name='원본데이터', index=False)\n",
    "    top5_population.to_excel(writer, sheet_name='총인구 Top5', index=False)\n",
    "    top5_family.to_excel(writer, sheet_name='세대당 인구 Top5', index=False)\n",
    "    male_vs_female.to_excel(writer, sheet_name='남자vs여자', index=False)\n",
    "    \n",
    "print(\"엑셀 리포트 저장 완료 → '인구분석리포트.xlsx'\")\n"
   ]
  },
  {
   "cell_type": "code",
   "execution_count": 20,
   "id": "e610896e",
   "metadata": {},
   "outputs": [],
   "source": [
    "# 남녀 인구 차이 컬럼 추가\n",
    "df['남여차이'] = abs(df['남자 인구수'] - df['여자 인구수'])\n",
    "\n",
    "# 남녀 비율 TOP5 (남초)\n",
    "male_dom = df.sort_values(by='남여 비율', ascending=False).head(5)\n",
    "\n",
    "# 남녀 비율 TOP5 (여초)\n",
    "female_dom = df.sort_values(by='남여 비율', ascending=True).head(5)\n",
    "\n",
    "# 세대당 인구 TOP5 (가구당 인구 많은 지역)\n",
    "big_family = df.sort_values(by='세대당 인구', ascending=False).head(5)\n",
    "\n",
    "# 세대수 대비 총인구 비율\n",
    "df['인구/세대'] = df['총인구수'] / df['세대수']\n",
    "\n",
    "# 수도권 vs 비수도권 비교\n",
    "capital = df[df['행정기관'].isin(['서울특별시', '경기도', '인천광역시'])]\n",
    "non_capital = df[~df['행정기관'].isin(['서울특별시', '경기도', '인천광역시'])]\n"
   ]
  },
  {
   "cell_type": "code",
   "execution_count": 21,
   "id": "c5fd1863",
   "metadata": {},
   "outputs": [
    {
     "name": "stdout",
     "output_type": "stream",
     "text": [
      "남초 TOP5\n"
     ]
    },
    {
     "data": {
      "text/html": [
       "<div>\n",
       "<style scoped>\n",
       "    .dataframe tbody tr th:only-of-type {\n",
       "        vertical-align: middle;\n",
       "    }\n",
       "\n",
       "    .dataframe tbody tr th {\n",
       "        vertical-align: top;\n",
       "    }\n",
       "\n",
       "    .dataframe thead th {\n",
       "        text-align: right;\n",
       "    }\n",
       "</style>\n",
       "<table border=\"1\" class=\"dataframe\">\n",
       "  <thead>\n",
       "    <tr style=\"text-align: right;\">\n",
       "      <th></th>\n",
       "      <th>행정기관</th>\n",
       "      <th>남여 비율</th>\n",
       "    </tr>\n",
       "  </thead>\n",
       "  <tbody>\n",
       "    <tr>\n",
       "      <th>0</th>\n",
       "      <td>울산광역시</td>\n",
       "      <td>1.06</td>\n",
       "    </tr>\n",
       "    <tr>\n",
       "      <th>1</th>\n",
       "      <td>충청남도</td>\n",
       "      <td>1.05</td>\n",
       "    </tr>\n",
       "    <tr>\n",
       "      <th>2</th>\n",
       "      <td>충청북도</td>\n",
       "      <td>1.04</td>\n",
       "    </tr>\n",
       "    <tr>\n",
       "      <th>3</th>\n",
       "      <td>경상남도</td>\n",
       "      <td>1.02</td>\n",
       "    </tr>\n",
       "    <tr>\n",
       "      <th>4</th>\n",
       "      <td>경상북도</td>\n",
       "      <td>1.02</td>\n",
       "    </tr>\n",
       "  </tbody>\n",
       "</table>\n",
       "</div>"
      ],
      "text/plain": [
       "    행정기관  남여 비율\n",
       "0  울산광역시   1.06\n",
       "1   충청남도   1.05\n",
       "2   충청북도   1.04\n",
       "3   경상남도   1.02\n",
       "4   경상북도   1.02"
      ]
     },
     "execution_count": 21,
     "metadata": {},
     "output_type": "execute_result"
    }
   ],
   "source": [
    "\n",
    "print(\"남초 TOP5\")\n",
    "male_dom[['행정기관','남여 비율']].reset_index(drop=True)\n"
   ]
  },
  {
   "cell_type": "code",
   "execution_count": 22,
   "id": "172272b5",
   "metadata": {},
   "outputs": [
    {
     "name": "stdout",
     "output_type": "stream",
     "text": [
      "여초 TOP5\n"
     ]
    },
    {
     "data": {
      "text/html": [
       "<div>\n",
       "<style scoped>\n",
       "    .dataframe tbody tr th:only-of-type {\n",
       "        vertical-align: middle;\n",
       "    }\n",
       "\n",
       "    .dataframe tbody tr th {\n",
       "        vertical-align: top;\n",
       "    }\n",
       "\n",
       "    .dataframe thead th {\n",
       "        text-align: right;\n",
       "    }\n",
       "</style>\n",
       "<table border=\"1\" class=\"dataframe\">\n",
       "  <thead>\n",
       "    <tr style=\"text-align: right;\">\n",
       "      <th></th>\n",
       "      <th>행정기관</th>\n",
       "      <th>남여 비율</th>\n",
       "    </tr>\n",
       "  </thead>\n",
       "  <tbody>\n",
       "    <tr>\n",
       "      <th>0</th>\n",
       "      <td>서울특별시</td>\n",
       "      <td>0.93</td>\n",
       "    </tr>\n",
       "    <tr>\n",
       "      <th>1</th>\n",
       "      <td>부산광역시</td>\n",
       "      <td>0.95</td>\n",
       "    </tr>\n",
       "    <tr>\n",
       "      <th>2</th>\n",
       "      <td>대구광역시</td>\n",
       "      <td>0.96</td>\n",
       "    </tr>\n",
       "    <tr>\n",
       "      <th>3</th>\n",
       "      <td>광주광역시</td>\n",
       "      <td>0.97</td>\n",
       "    </tr>\n",
       "    <tr>\n",
       "      <th>4</th>\n",
       "      <td>전북특별자치도</td>\n",
       "      <td>0.99</td>\n",
       "    </tr>\n",
       "  </tbody>\n",
       "</table>\n",
       "</div>"
      ],
      "text/plain": [
       "      행정기관  남여 비율\n",
       "0    서울특별시   0.93\n",
       "1    부산광역시   0.95\n",
       "2    대구광역시   0.96\n",
       "3    광주광역시   0.97\n",
       "4  전북특별자치도   0.99"
      ]
     },
     "execution_count": 22,
     "metadata": {},
     "output_type": "execute_result"
    }
   ],
   "source": [
    "\n",
    "print(\"여초 TOP5\")\n",
    "female_dom[['행정기관','남여 비율']].reset_index(drop=True)\n"
   ]
  },
  {
   "cell_type": "code",
   "execution_count": 23,
   "id": "3b3c1171",
   "metadata": {},
   "outputs": [
    {
     "name": "stdout",
     "output_type": "stream",
     "text": [
      "세대당 인구 많은 TOP5\n"
     ]
    },
    {
     "data": {
      "text/html": [
       "<div>\n",
       "<style scoped>\n",
       "    .dataframe tbody tr th:only-of-type {\n",
       "        vertical-align: middle;\n",
       "    }\n",
       "\n",
       "    .dataframe tbody tr th {\n",
       "        vertical-align: top;\n",
       "    }\n",
       "\n",
       "    .dataframe thead th {\n",
       "        text-align: right;\n",
       "    }\n",
       "</style>\n",
       "<table border=\"1\" class=\"dataframe\">\n",
       "  <thead>\n",
       "    <tr style=\"text-align: right;\">\n",
       "      <th></th>\n",
       "      <th>행정기관</th>\n",
       "      <th>세대당 인구</th>\n",
       "    </tr>\n",
       "  </thead>\n",
       "  <tbody>\n",
       "    <tr>\n",
       "      <th>0</th>\n",
       "      <td>세종특별자치시</td>\n",
       "      <td>2.39</td>\n",
       "    </tr>\n",
       "    <tr>\n",
       "      <th>1</th>\n",
       "      <td>경기도</td>\n",
       "      <td>2.26</td>\n",
       "    </tr>\n",
       "    <tr>\n",
       "      <th>2</th>\n",
       "      <td>울산광역시</td>\n",
       "      <td>2.22</td>\n",
       "    </tr>\n",
       "    <tr>\n",
       "      <th>3</th>\n",
       "      <td>인천광역시</td>\n",
       "      <td>2.20</td>\n",
       "    </tr>\n",
       "    <tr>\n",
       "      <th>4</th>\n",
       "      <td>대구광역시</td>\n",
       "      <td>2.14</td>\n",
       "    </tr>\n",
       "  </tbody>\n",
       "</table>\n",
       "</div>"
      ],
      "text/plain": [
       "      행정기관  세대당 인구\n",
       "0  세종특별자치시    2.39\n",
       "1      경기도    2.26\n",
       "2    울산광역시    2.22\n",
       "3    인천광역시    2.20\n",
       "4    대구광역시    2.14"
      ]
     },
     "execution_count": 23,
     "metadata": {},
     "output_type": "execute_result"
    }
   ],
   "source": [
    "\n",
    "print(\"세대당 인구 많은 TOP5\")\n",
    "big_family[['행정기관','세대당 인구']].reset_index(drop=True)\n"
   ]
  },
  {
   "cell_type": "code",
   "execution_count": 24,
   "id": "0f89f3aa",
   "metadata": {},
   "outputs": [
    {
     "name": "stdout",
     "output_type": "stream",
     "text": [
      "수도권 평균 세대당 인구: 2.18\n",
      "비수도권 평균 세대당 인구: 2.0892857142857144\n"
     ]
    }
   ],
   "source": [
    "\n",
    "print(\"수도권 평균 세대당 인구:\", capital['세대당 인구'].mean())\n",
    "print(\"비수도권 평균 세대당 인구:\", non_capital['세대당 인구'].mean())"
   ]
  },
  {
   "cell_type": "code",
   "execution_count": 25,
   "id": "89cc5191",
   "metadata": {},
   "outputs": [
    {
     "ename": "IndexError",
     "evalue": "index 0 is out of bounds for axis 0 with size 0",
     "output_type": "error",
     "traceback": [
      "\u001b[1;31m---------------------------------------------------------------------------\u001b[0m",
      "\u001b[1;31mIndexError\u001b[0m                                Traceback (most recent call last)",
      "Cell \u001b[1;32mIn[25], line 2\u001b[0m\n\u001b[0;32m      1\u001b[0m \u001b[38;5;66;03m# 전국 총인구수\u001b[39;00m\n\u001b[1;32m----> 2\u001b[0m total_population \u001b[38;5;241m=\u001b[39m df_all[df_all[\u001b[38;5;124m'\u001b[39m\u001b[38;5;124m행정기관\u001b[39m\u001b[38;5;124m'\u001b[39m] \u001b[38;5;241m==\u001b[39m \u001b[38;5;124m'\u001b[39m\u001b[38;5;124m전국\u001b[39m\u001b[38;5;124m'\u001b[39m][\u001b[38;5;124m'\u001b[39m\u001b[38;5;124m총인구수\u001b[39m\u001b[38;5;124m'\u001b[39m]\u001b[38;5;241m.\u001b[39mvalues[\u001b[38;5;241m0\u001b[39m]\n\u001b[0;32m      4\u001b[0m \u001b[38;5;66;03m# 인구비율(%) 컬럼 추가하기\u001b[39;00m\n\u001b[0;32m      5\u001b[0m df[\u001b[38;5;124m'\u001b[39m\u001b[38;5;124m인구비율(\u001b[39m\u001b[38;5;124m%\u001b[39m\u001b[38;5;124m)\u001b[39m\u001b[38;5;124m'\u001b[39m] \u001b[38;5;241m=\u001b[39m df[\u001b[38;5;124m'\u001b[39m\u001b[38;5;124m총인구수\u001b[39m\u001b[38;5;124m'\u001b[39m] \u001b[38;5;241m/\u001b[39m total_population \u001b[38;5;241m*\u001b[39m \u001b[38;5;241m100\u001b[39m\n",
      "\u001b[1;31mIndexError\u001b[0m: index 0 is out of bounds for axis 0 with size 0"
     ]
    }
   ],
   "source": [
    "# 전국 총인구수\n",
    "total_population = df_all[df_all['행정기관'] == '전국']['총인구수'].values[0]\n",
    "\n",
    "# 인구비율(%) 컬럼 추가하기\n",
    "df['인구비율(%)'] = df['총인구수'] / total_population * 100\n",
    "\n",
    "df"
   ]
  },
  {
   "cell_type": "code",
   "execution_count": null,
   "id": "906e1cb7",
   "metadata": {},
   "outputs": [
    {
     "ename": "KeyError",
     "evalue": "'인구비율(%)'",
     "output_type": "error",
     "traceback": [
      "\u001b[1;31m---------------------------------------------------------------------------\u001b[0m",
      "\u001b[1;31mKeyError\u001b[0m                                  Traceback (most recent call last)",
      "\u001b[1;32m~\\AppData\\Local\\Temp\\ipykernel_14328\\319401001.py\u001b[0m in \u001b[0;36m?\u001b[1;34m()\u001b[0m\n\u001b[0;32m      1\u001b[0m \u001b[1;31m# 전국 제외\u001b[0m\u001b[1;33m\u001b[0m\u001b[1;33m\u001b[0m\u001b[0m\n\u001b[1;32m----> 2\u001b[1;33m \u001b[0mdf_plot\u001b[0m \u001b[1;33m=\u001b[0m \u001b[0mdf\u001b[0m\u001b[1;33m.\u001b[0m\u001b[0msort_values\u001b[0m\u001b[1;33m(\u001b[0m\u001b[0mby\u001b[0m\u001b[1;33m=\u001b[0m\u001b[1;34m'인구비율(%)'\u001b[0m\u001b[1;33m,\u001b[0m \u001b[0mascending\u001b[0m\u001b[1;33m=\u001b[0m\u001b[1;32mFalse\u001b[0m\u001b[1;33m)\u001b[0m\u001b[1;33m\u001b[0m\u001b[1;33m\u001b[0m\u001b[0m\n\u001b[0m\u001b[0;32m      3\u001b[0m \u001b[0mdf_plot\u001b[0m\u001b[1;33m\u001b[0m\u001b[1;33m\u001b[0m\u001b[0m\n",
      "\u001b[1;32mc:\\Users\\user\\anaconda3\\Lib\\site-packages\\pandas\\core\\frame.py\u001b[0m in \u001b[0;36m?\u001b[1;34m(self, by, axis, ascending, inplace, kind, na_position, ignore_index, key)\u001b[0m\n\u001b[0;32m   7185\u001b[0m             \u001b[1;33m)\u001b[0m\u001b[1;33m\u001b[0m\u001b[1;33m\u001b[0m\u001b[0m\n\u001b[0;32m   7186\u001b[0m         \u001b[1;32melif\u001b[0m \u001b[0mlen\u001b[0m\u001b[1;33m(\u001b[0m\u001b[0mby\u001b[0m\u001b[1;33m)\u001b[0m\u001b[1;33m:\u001b[0m\u001b[1;33m\u001b[0m\u001b[1;33m\u001b[0m\u001b[0m\n\u001b[0;32m   7187\u001b[0m             \u001b[1;31m# len(by) == 1\u001b[0m\u001b[1;33m\u001b[0m\u001b[1;33m\u001b[0m\u001b[0m\n\u001b[0;32m   7188\u001b[0m \u001b[1;33m\u001b[0m\u001b[0m\n\u001b[1;32m-> 7189\u001b[1;33m             \u001b[0mk\u001b[0m \u001b[1;33m=\u001b[0m \u001b[0mself\u001b[0m\u001b[1;33m.\u001b[0m\u001b[0m_get_label_or_level_values\u001b[0m\u001b[1;33m(\u001b[0m\u001b[0mby\u001b[0m\u001b[1;33m[\u001b[0m\u001b[1;36m0\u001b[0m\u001b[1;33m]\u001b[0m\u001b[1;33m,\u001b[0m \u001b[0maxis\u001b[0m\u001b[1;33m=\u001b[0m\u001b[0maxis\u001b[0m\u001b[1;33m)\u001b[0m\u001b[1;33m\u001b[0m\u001b[1;33m\u001b[0m\u001b[0m\n\u001b[0m\u001b[0;32m   7190\u001b[0m \u001b[1;33m\u001b[0m\u001b[0m\n\u001b[0;32m   7191\u001b[0m             \u001b[1;31m# need to rewrap column in Series to apply key function\u001b[0m\u001b[1;33m\u001b[0m\u001b[1;33m\u001b[0m\u001b[0m\n\u001b[0;32m   7192\u001b[0m             \u001b[1;32mif\u001b[0m \u001b[0mkey\u001b[0m \u001b[1;32mis\u001b[0m \u001b[1;32mnot\u001b[0m \u001b[1;32mNone\u001b[0m\u001b[1;33m:\u001b[0m\u001b[1;33m\u001b[0m\u001b[1;33m\u001b[0m\u001b[0m\n",
      "\u001b[1;32mc:\\Users\\user\\anaconda3\\Lib\\site-packages\\pandas\\core\\generic.py\u001b[0m in \u001b[0;36m?\u001b[1;34m(self, key, axis)\u001b[0m\n\u001b[0;32m   1907\u001b[0m             \u001b[0mvalues\u001b[0m \u001b[1;33m=\u001b[0m \u001b[0mself\u001b[0m\u001b[1;33m.\u001b[0m\u001b[0mxs\u001b[0m\u001b[1;33m(\u001b[0m\u001b[0mkey\u001b[0m\u001b[1;33m,\u001b[0m \u001b[0maxis\u001b[0m\u001b[1;33m=\u001b[0m\u001b[0mother_axes\u001b[0m\u001b[1;33m[\u001b[0m\u001b[1;36m0\u001b[0m\u001b[1;33m]\u001b[0m\u001b[1;33m)\u001b[0m\u001b[1;33m.\u001b[0m\u001b[0m_values\u001b[0m\u001b[1;33m\u001b[0m\u001b[1;33m\u001b[0m\u001b[0m\n\u001b[0;32m   1908\u001b[0m         \u001b[1;32melif\u001b[0m \u001b[0mself\u001b[0m\u001b[1;33m.\u001b[0m\u001b[0m_is_level_reference\u001b[0m\u001b[1;33m(\u001b[0m\u001b[0mkey\u001b[0m\u001b[1;33m,\u001b[0m \u001b[0maxis\u001b[0m\u001b[1;33m=\u001b[0m\u001b[0maxis\u001b[0m\u001b[1;33m)\u001b[0m\u001b[1;33m:\u001b[0m\u001b[1;33m\u001b[0m\u001b[1;33m\u001b[0m\u001b[0m\n\u001b[0;32m   1909\u001b[0m             \u001b[0mvalues\u001b[0m \u001b[1;33m=\u001b[0m \u001b[0mself\u001b[0m\u001b[1;33m.\u001b[0m\u001b[0maxes\u001b[0m\u001b[1;33m[\u001b[0m\u001b[0maxis\u001b[0m\u001b[1;33m]\u001b[0m\u001b[1;33m.\u001b[0m\u001b[0mget_level_values\u001b[0m\u001b[1;33m(\u001b[0m\u001b[0mkey\u001b[0m\u001b[1;33m)\u001b[0m\u001b[1;33m.\u001b[0m\u001b[0m_values\u001b[0m\u001b[1;33m\u001b[0m\u001b[1;33m\u001b[0m\u001b[0m\n\u001b[0;32m   1910\u001b[0m         \u001b[1;32melse\u001b[0m\u001b[1;33m:\u001b[0m\u001b[1;33m\u001b[0m\u001b[1;33m\u001b[0m\u001b[0m\n\u001b[1;32m-> 1911\u001b[1;33m             \u001b[1;32mraise\u001b[0m \u001b[0mKeyError\u001b[0m\u001b[1;33m(\u001b[0m\u001b[0mkey\u001b[0m\u001b[1;33m)\u001b[0m\u001b[1;33m\u001b[0m\u001b[1;33m\u001b[0m\u001b[0m\n\u001b[0m\u001b[0;32m   1912\u001b[0m \u001b[1;33m\u001b[0m\u001b[0m\n\u001b[0;32m   1913\u001b[0m         \u001b[1;31m# Check for duplicates\u001b[0m\u001b[1;33m\u001b[0m\u001b[1;33m\u001b[0m\u001b[0m\n\u001b[0;32m   1914\u001b[0m         \u001b[1;32mif\u001b[0m \u001b[0mvalues\u001b[0m\u001b[1;33m.\u001b[0m\u001b[0mndim\u001b[0m \u001b[1;33m>\u001b[0m \u001b[1;36m1\u001b[0m\u001b[1;33m:\u001b[0m\u001b[1;33m\u001b[0m\u001b[1;33m\u001b[0m\u001b[0m\n",
      "\u001b[1;31mKeyError\u001b[0m: '인구비율(%)'"
     ]
    }
   ],
   "source": [
    "# 전국 제외\n",
    "df_plot = df.sort_values(by='인구비율(%)', ascending=False)\n",
    "df_plot"
   ]
  },
  {
   "cell_type": "code",
   "execution_count": null,
   "id": "95537e6e",
   "metadata": {},
   "outputs": [
    {
     "ename": "NameError",
     "evalue": "name 'df_plot' is not defined",
     "output_type": "error",
     "traceback": [
      "\u001b[1;31m---------------------------------------------------------------------------\u001b[0m",
      "\u001b[1;31mNameError\u001b[0m                                 Traceback (most recent call last)",
      "Cell \u001b[1;32mIn[45], line 3\u001b[0m\n\u001b[0;32m      1\u001b[0m \u001b[38;5;66;03m# 시각화\u001b[39;00m\n\u001b[0;32m      2\u001b[0m plt\u001b[38;5;241m.\u001b[39mfigure(figsize\u001b[38;5;241m=\u001b[39m(\u001b[38;5;241m12\u001b[39m, \u001b[38;5;241m8\u001b[39m))\n\u001b[1;32m----> 3\u001b[0m bars \u001b[38;5;241m=\u001b[39m plt\u001b[38;5;241m.\u001b[39mbarh(df_plot[\u001b[38;5;124m'\u001b[39m\u001b[38;5;124m행정기관\u001b[39m\u001b[38;5;124m'\u001b[39m], df_plot[\u001b[38;5;124m'\u001b[39m\u001b[38;5;124m인구비율(\u001b[39m\u001b[38;5;124m%\u001b[39m\u001b[38;5;124m)\u001b[39m\u001b[38;5;124m'\u001b[39m], color\u001b[38;5;241m=\u001b[39m\u001b[38;5;124m'\u001b[39m\u001b[38;5;124mcornflowerblue\u001b[39m\u001b[38;5;124m'\u001b[39m)\n\u001b[0;32m      5\u001b[0m plt\u001b[38;5;241m.\u001b[39mxlabel(\u001b[38;5;124m'\u001b[39m\u001b[38;5;124m인구비율 (\u001b[39m\u001b[38;5;124m%\u001b[39m\u001b[38;5;124m)\u001b[39m\u001b[38;5;124m'\u001b[39m)\n\u001b[0;32m      6\u001b[0m plt\u001b[38;5;241m.\u001b[39mtitle(\u001b[38;5;124m'\u001b[39m\u001b[38;5;124m행정기관별 인구 비율\u001b[39m\u001b[38;5;124m'\u001b[39m)\n",
      "\u001b[1;31mNameError\u001b[0m: name 'df_plot' is not defined"
     ]
    },
    {
     "data": {
      "text/plain": [
       "<Figure size 1200x800 with 0 Axes>"
      ]
     },
     "metadata": {},
     "output_type": "display_data"
    }
   ],
   "source": [
    "\n",
    "# 시각화\n",
    "plt.figure(figsize=(12, 8))\n",
    "bars = plt.barh(df_plot['행정기관'], df_plot['인구비율(%)'], color='cornflowerblue')\n",
    "\n",
    "plt.xlabel('인구비율 (%)')\n",
    "plt.title('행정기관별 인구 비율')\n",
    "\n",
    "# 값 표시\n",
    "for bar in bars:\n",
    "    plt.text(bar.get_width() + 0.1, bar.get_y() + bar.get_height()/2,\n",
    "             f\"{bar.get_width():.2f}%\", va='center')\n",
    "\n",
    "plt.gca().invert_yaxis()\n",
    "plt.show()"
   ]
  }
 ],
 "metadata": {
  "kernelspec": {
   "display_name": "base",
   "language": "python",
   "name": "python3"
  },
  "language_info": {
   "codemirror_mode": {
    "name": "ipython",
    "version": 3
   },
   "file_extension": ".py",
   "mimetype": "text/x-python",
   "name": "python",
   "nbconvert_exporter": "python",
   "pygments_lexer": "ipython3",
   "version": "3.12.7"
  }
 },
 "nbformat": 4,
 "nbformat_minor": 5
}
