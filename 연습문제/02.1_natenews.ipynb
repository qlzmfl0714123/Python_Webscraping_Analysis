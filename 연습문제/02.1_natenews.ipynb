{
 "cells": [
  {
   "cell_type": "code",
   "execution_count": 1,
   "id": "8ca9c0b3",
   "metadata": {},
   "outputs": [
    {
     "name": "stdout",
     "output_type": "stream",
     "text": [
      "Name: requests\n",
      "Version: 2.32.3\n",
      "Summary: Python HTTP for Humans.\n",
      "Home-page: https://requests.readthedocs.io\n",
      "Author: Kenneth Reitz\n",
      "Author-email: me@kennethreitz.org\n",
      "License: Apache-2.0\n",
      "Location: C:\\Users\\user\\anaconda3\\Lib\\site-packages\n",
      "Requires: certifi, charset-normalizer, idna, urllib3\n",
      "Required-by: anaconda-catalogs, anaconda-client, anaconda-cloud-auth, anaconda-project, conda, conda-build, conda-repo-cli, conda_package_streaming, cookiecutter, datashader, jupyterlab_server, panel, requests-file, requests-toolbelt, Sphinx, streamlit, tldextract\n"
     ]
    }
   ],
   "source": [
    "!pip show requests"
   ]
  },
  {
   "cell_type": "code",
   "execution_count": 2,
   "id": "6a3e4183",
   "metadata": {},
   "outputs": [
    {
     "name": "stdout",
     "output_type": "stream",
     "text": [
      "Name: beautifulsoup4\n",
      "Version: 4.12.3\n",
      "Summary: Screen-scraping library\n",
      "Home-page: https://www.crummy.com/software/BeautifulSoup/bs4/\n",
      "Author: \n",
      "Author-email: Leonard Richardson <leonardr@segfault.org>\n",
      "License: MIT License\n",
      "Location: C:\\Users\\user\\anaconda3\\Lib\\site-packages\n",
      "Requires: soupsieve\n",
      "Required-by: conda-build, nbconvert\n"
     ]
    }
   ],
   "source": [
    "!pip show beautifulsoup4"
   ]
  },
  {
   "cell_type": "code",
   "execution_count": 3,
   "id": "de74fb39",
   "metadata": {},
   "outputs": [],
   "source": [
    "# reqeusts, bs4 import\n",
    "import requests \n",
    "# BeautifulSoup import\n",
    "import bs4\n",
    "#beautifulsoup 클래스 import\n",
    "from bs4 import BeautifulSoup"
   ]
  },
  {
   "cell_type": "code",
   "execution_count": 4,
   "id": "b0b24a3a",
   "metadata": {},
   "outputs": [
    {
     "name": "stdout",
     "output_type": "stream",
     "text": [
      "\n",
      "--- 최신뉴스 뉴스 ---\n",
      "URL: https://news.nate.com/recent?mid=n0100\n",
      "\n",
      "1. 제목: '삼성 타선 봉쇄→6연패 탈출' SSG, 오랜만에 웃었다…이숭용 감독 \"선수들이 이기겠다는 의지 보여줬다\" [대구 현장]\n",
      "링크: https://news.nate.com/view/20250725n00535?mid=n0100\n",
      "이미지 주소: https://thumbnews.nateimg.co.kr/news90///news.nateimg.co.kr/orgImg/xs/2025/07/25/1753365984377429.jpg\n"
     ]
    },
    {
     "data": {
      "text/html": [
       "<img src=\"https://thumbnews.nateimg.co.kr/news90///news.nateimg.co.kr/orgImg/xs/2025/07/25/1753365984377429.jpg\" width=\"120\"/>"
      ],
      "text/plain": [
       "<IPython.core.display.Image object>"
      ]
     },
     "metadata": {},
     "output_type": "display_data"
    },
    {
     "name": "stdout",
     "output_type": "stream",
     "text": [
      "\n",
      "2. 제목: '키움 타선 추풍낙엽' 감보아, 7이닝 KKKKKKKKK 호투쇼…김태형 감독 \"에이스다운 면모로 완벽 피칭\" [고척 현장]\n",
      "링크: https://news.nate.com/view/20250725n00534?mid=n0100\n",
      "이미지 주소: https://thumbnews.nateimg.co.kr/news90///news.nateimg.co.kr/orgImg/xs/2025/07/25/1753361347305393.jpg\n"
     ]
    },
    {
     "data": {
      "text/html": [
       "<img src=\"https://thumbnews.nateimg.co.kr/news90///news.nateimg.co.kr/orgImg/xs/2025/07/25/1753361347305393.jpg\" width=\"120\"/>"
      ],
      "text/plain": [
       "<IPython.core.display.Image object>"
      ]
     },
     "metadata": {},
     "output_type": "display_data"
    },
    {
     "name": "stdout",
     "output_type": "stream",
     "text": [
      "\n",
      "3. 제목: 시리아 이들리브 대규모 폭발…6명 사망, 140명 부상\n",
      "링크: https://news.nate.com/view/20250725n00533?mid=n0100\n",
      "이미지 주소: https://thumbnews.nateimg.co.kr/news90///news.nateimg.co.kr/orgImg/jo/2025/07/25/63f29e36-5141-4099-8f08-5b66122f793c.jpg\n"
     ]
    },
    {
     "data": {
      "text/html": [
       "<img src=\"https://thumbnews.nateimg.co.kr/news90///news.nateimg.co.kr/orgImg/jo/2025/07/25/63f29e36-5141-4099-8f08-5b66122f793c.jpg\" width=\"120\"/>"
      ],
      "text/plain": [
       "<IPython.core.display.Image object>"
      ]
     },
     "metadata": {},
     "output_type": "display_data"
    },
    {
     "name": "stdout",
     "output_type": "stream",
     "text": [
      "\n",
      "4. 제목: \"기회 충분히 줬다\" 잔여 연봉만 무려 34억인데…페디 충격 방출, 이러다 다시 한국 올라\n",
      "링크: https://news.nate.com/view/20250725n00532?mid=n0100\n",
      "이미지 주소: https://thumbnews.nateimg.co.kr/news90///news.nateimg.co.kr/orgImg/pt/2025/07/25/202507241414771661_68824ce2b6ddf.jpg\n"
     ]
    },
    {
     "data": {
      "text/html": [
       "<img src=\"https://thumbnews.nateimg.co.kr/news90///news.nateimg.co.kr/orgImg/pt/2025/07/25/202507241414771661_68824ce2b6ddf.jpg\" width=\"120\"/>"
      ],
      "text/plain": [
       "<IPython.core.display.Image object>"
      ]
     },
     "metadata": {},
     "output_type": "display_data"
    },
    {
     "name": "stdout",
     "output_type": "stream",
     "text": [
      "\n",
      "5. 제목: 美의회서 한국인 전용 전문직 취업비자 법안 재발의\n",
      "링크: https://news.nate.com/view/20250725n00531?mid=n0100\n",
      "이미지 주소: https://thumbnews.nateimg.co.kr/news90///news.nateimg.co.kr/orgImg/yt/2025/07/25/AKR20250725002000071_01_i.jpg\n"
     ]
    },
    {
     "data": {
      "text/html": [
       "<img src=\"https://thumbnews.nateimg.co.kr/news90///news.nateimg.co.kr/orgImg/yt/2025/07/25/AKR20250725002000071_01_i.jpg\" width=\"120\"/>"
      ],
      "text/plain": [
       "<IPython.core.display.Image object>"
      ]
     },
     "metadata": {},
     "output_type": "display_data"
    },
    {
     "name": "stdout",
     "output_type": "stream",
     "text": [
      "\n",
      "--- 정치 뉴스 ---\n",
      "URL: https://news.nate.com/recent?mid=n0101\n",
      "\n",
      "1. 제목: [한반도 포커스] \"북, 행운 믿기 힘들 것…38노스, 왜 이런 말을?\n",
      "링크: https://news.nate.com/view/20250725n00421?mid=n0101\n",
      "이미지 주소: https://thumbnews.nateimg.co.kr/news90///news.nateimg.co.kr/orgImg/sv/2025/07/25/202094749_700.jpg\n"
     ]
    },
    {
     "data": {
      "text/html": [
       "<img src=\"https://thumbnews.nateimg.co.kr/news90///news.nateimg.co.kr/orgImg/sv/2025/07/25/202094749_700.jpg\" width=\"120\"/>"
      ],
      "text/plain": [
       "<IPython.core.display.Image object>"
      ]
     },
     "metadata": {},
     "output_type": "display_data"
    },
    {
     "name": "stdout",
     "output_type": "stream",
     "text": [
      "\n",
      "2. 제목: [재산공개] 윤석열 전 대통령 파면 시점 재산 79억원\n",
      "링크: https://news.nate.com/view/20250725n00067?mid=n0101\n",
      "이미지 주소: https://thumbnews.nateimg.co.kr/news90///news.nateimg.co.kr/orgImg/ch/2025/07/25/ch_1753371370379_656319_0.jpg\n"
     ]
    },
    {
     "data": {
      "text/html": [
       "<img src=\"https://thumbnews.nateimg.co.kr/news90///news.nateimg.co.kr/orgImg/ch/2025/07/25/ch_1753371370379_656319_0.jpg\" width=\"120\"/>"
      ],
      "text/plain": [
       "<IPython.core.display.Image object>"
      ]
     },
     "metadata": {},
     "output_type": "display_data"
    },
    {
     "name": "stdout",
     "output_type": "stream",
     "text": [
      "\n",
      "3. 제목: 이 대통령 \"배당소득세 개편 논의 필요\"…대통령실은 법인세 인상 가능성 시사\n",
      "링크: https://news.nate.com/view/20250725n00350?mid=n0101\n",
      "이미지 없음\n",
      "\n",
      "4. 제목: 이 대통령 \"공무원 적극적으로 일하라\" 직권남용죄 손본다\n",
      "링크: https://news.nate.com/view/20250725n00332?mid=n0101\n",
      "이미지 주소: https://thumbnews.nateimg.co.kr/news90///news.nateimg.co.kr/orgImg/jo/2025/07/25/b1f1cd5d-a0ac-41a0-8f3f-22a4257f9d7d.jpg\n"
     ]
    },
    {
     "data": {
      "text/html": [
       "<img src=\"https://thumbnews.nateimg.co.kr/news90///news.nateimg.co.kr/orgImg/jo/2025/07/25/b1f1cd5d-a0ac-41a0-8f3f-22a4257f9d7d.jpg\" width=\"120\"/>"
      ],
      "text/plain": [
       "<IPython.core.display.Image object>"
      ]
     },
     "metadata": {},
     "output_type": "display_data"
    },
    {
     "name": "stdout",
     "output_type": "stream",
     "text": [
      "\n",
      "5. 제목: 민주 \"인사 실패로 李정부 기대감 약화…인사시스템 개편해야\"\n",
      "링크: https://news.nate.com/view/20250725n00287?mid=n0101\n",
      "이미지 주소: https://thumbnews.nateimg.co.kr/news90///news.nateimg.co.kr/orgImg/jo/2025/07/25/5013ce4f-ce38-4d38-949d-23b9b48230ef.jpg\n"
     ]
    },
    {
     "data": {
      "text/html": [
       "<img src=\"https://thumbnews.nateimg.co.kr/news90///news.nateimg.co.kr/orgImg/jo/2025/07/25/5013ce4f-ce38-4d38-949d-23b9b48230ef.jpg\" width=\"120\"/>"
      ],
      "text/plain": [
       "<IPython.core.display.Image object>"
      ]
     },
     "metadata": {},
     "output_type": "display_data"
    },
    {
     "name": "stdout",
     "output_type": "stream",
     "text": [
      "\n",
      "--- 경제 뉴스 ---\n",
      "URL: https://news.nate.com/recent?mid=n0102\n",
      "\n",
      "1. 제목: \"日이어 EU도 車관세 절반 깎아\" 비상 걸린 한국\n",
      "링크: https://news.nate.com/view/20250725n00477?mid=n0102\n",
      "이미지 주소: https://thumbnews.nateimg.co.kr/news90///news.nateimg.co.kr/orgImg/ch/2025/07/25/ch_1753372608318_976464_0.jpg\n"
     ]
    },
    {
     "data": {
      "text/html": [
       "<img src=\"https://thumbnews.nateimg.co.kr/news90///news.nateimg.co.kr/orgImg/ch/2025/07/25/ch_1753372608318_976464_0.jpg\" width=\"120\"/>"
      ],
      "text/plain": [
       "<IPython.core.display.Image object>"
      ]
     },
     "metadata": {},
     "output_type": "display_data"
    },
    {
     "name": "stdout",
     "output_type": "stream",
     "text": [
      "\n",
      "2. 제목: 대출 규제 이후 서울 집값 상승폭 4주째 줄어들어\n",
      "링크: https://news.nate.com/view/20250725n00476?mid=n0102\n",
      "이미지 주소: https://thumbnews.nateimg.co.kr/news90///news.nateimg.co.kr/orgImg/ch/2025/07/25/ch_1753372602218_200528_0.jpg\n"
     ]
    },
    {
     "data": {
      "text/html": [
       "<img src=\"https://thumbnews.nateimg.co.kr/news90///news.nateimg.co.kr/orgImg/ch/2025/07/25/ch_1753372602218_200528_0.jpg\" width=\"120\"/>"
      ],
      "text/plain": [
       "<IPython.core.display.Image object>"
      ]
     },
     "metadata": {},
     "output_type": "display_data"
    },
    {
     "name": "stdout",
     "output_type": "stream",
     "text": [
      "\n",
      "3. 제목: 월세가 대세…임대차 시장 60% 첫 돌파\n",
      "링크: https://news.nate.com/view/20250725n00473?mid=n0102\n",
      "이미지 주소: https://thumbnews.nateimg.co.kr/news90///news.nateimg.co.kr/orgImg/ch/2025/07/25/ch_1753372580602_994693_0.jpg\n"
     ]
    },
    {
     "data": {
      "text/html": [
       "<img src=\"https://thumbnews.nateimg.co.kr/news90///news.nateimg.co.kr/orgImg/ch/2025/07/25/ch_1753372580602_994693_0.jpg\" width=\"120\"/>"
      ],
      "text/plain": [
       "<IPython.core.display.Image object>"
      ]
     },
     "metadata": {},
     "output_type": "display_data"
    },
    {
     "name": "stdout",
     "output_type": "stream",
     "text": [
      "\n",
      "4. 제목: 한국, 쌀·소고기 지키고 옥수수·감자 수입 확대 카드\n",
      "링크: https://news.nate.com/view/20250725n00470?mid=n0102\n",
      "이미지 주소: https://thumbnews.nateimg.co.kr/news90///news.nateimg.co.kr/orgImg/ch/2025/07/25/ch_1753372572689_467918_0.jpg\n"
     ]
    },
    {
     "data": {
      "text/html": [
       "<img src=\"https://thumbnews.nateimg.co.kr/news90///news.nateimg.co.kr/orgImg/ch/2025/07/25/ch_1753372572689_467918_0.jpg\" width=\"120\"/>"
      ],
      "text/plain": [
       "<IPython.core.display.Image object>"
      ]
     },
     "metadata": {},
     "output_type": "display_data"
    },
    {
     "name": "stdout",
     "output_type": "stream",
     "text": [
      "\n",
      "5. 제목: 美아메리칸항공, 항공수요 반등 기대 '찬물'…\"국내선 수요부진\"\n",
      "링크: https://news.nate.com/view/20250725n00461?mid=n0102\n",
      "이미지 주소: https://thumbnews.nateimg.co.kr/news90///news.nateimg.co.kr/orgImg/yt/2025/07/25/AKR20250725001700072_01_i.jpg\n"
     ]
    },
    {
     "data": {
      "text/html": [
       "<img src=\"https://thumbnews.nateimg.co.kr/news90///news.nateimg.co.kr/orgImg/yt/2025/07/25/AKR20250725001700072_01_i.jpg\" width=\"120\"/>"
      ],
      "text/plain": [
       "<IPython.core.display.Image object>"
      ]
     },
     "metadata": {},
     "output_type": "display_data"
    },
    {
     "name": "stdout",
     "output_type": "stream",
     "text": [
      "\n",
      "--- 사회 뉴스 ---\n",
      "URL: https://news.nate.com/recent?mid=n0103\n",
      "\n",
      "1. 제목: 경찰, '방시혁 사기적 부정 거래' 하이브 본사 압수 수색\n",
      "링크: https://news.nate.com/view/20250725n00458?mid=n0103\n",
      "이미지 주소: https://thumbnews.nateimg.co.kr/news90///news.nateimg.co.kr/orgImg/ch/2025/07/25/ch_1753372455682_942638_0.jpg\n"
     ]
    },
    {
     "data": {
      "text/html": [
       "<img src=\"https://thumbnews.nateimg.co.kr/news90///news.nateimg.co.kr/orgImg/ch/2025/07/25/ch_1753372455682_942638_0.jpg\" width=\"120\"/>"
      ],
      "text/plain": [
       "<IPython.core.display.Image object>"
      ]
     },
     "metadata": {},
     "output_type": "display_data"
    },
    {
     "name": "stdout",
     "output_type": "stream",
     "text": [
      "\n",
      "2. 제목: 공무원들 야근 동원…광주 민생 쿠폰 교체\n",
      "링크: https://news.nate.com/view/20250725n00457?mid=n0103\n",
      "이미지 주소: https://thumbnews.nateimg.co.kr/news90///news.nateimg.co.kr/orgImg/ch/2025/07/25/ch_1753372453661_921520_0.jpg\n"
     ]
    },
    {
     "data": {
      "text/html": [
       "<img src=\"https://thumbnews.nateimg.co.kr/news90///news.nateimg.co.kr/orgImg/ch/2025/07/25/ch_1753372453661_921520_0.jpg\" width=\"120\"/>"
      ],
      "text/plain": [
       "<IPython.core.display.Image object>"
      ]
     },
     "metadata": {},
     "output_type": "display_data"
    },
    {
     "name": "stdout",
     "output_type": "stream",
     "text": [
      "\n",
      "3. 제목: 현장 진입에 1시간, 폭탄 제거 2시간…경찰 초기 대처 논란\n",
      "링크: https://news.nate.com/view/20250725n00456?mid=n0103\n",
      "이미지 주소: https://thumbnews.nateimg.co.kr/news90///news.nateimg.co.kr/orgImg/ch/2025/07/25/ch_1753372452391_155891_0.jpg\n"
     ]
    },
    {
     "data": {
      "text/html": [
       "<img src=\"https://thumbnews.nateimg.co.kr/news90///news.nateimg.co.kr/orgImg/ch/2025/07/25/ch_1753372452391_155891_0.jpg\" width=\"120\"/>"
      ],
      "text/plain": [
       "<IPython.core.display.Image object>"
      ]
     },
     "metadata": {},
     "output_type": "display_data"
    },
    {
     "name": "stdout",
     "output_type": "stream",
     "text": [
      "\n",
      "4. 제목: 폭우 피해 막았는데…'4대강' 원점 돌리겠다는 환경장관\n",
      "링크: https://news.nate.com/view/20250725n00454?mid=n0103\n",
      "이미지 주소: https://thumbnews.nateimg.co.kr/news90///news.nateimg.co.kr/orgImg/ch/2025/07/25/ch_1753372450731_489943_0.jpg\n"
     ]
    },
    {
     "data": {
      "text/html": [
       "<img src=\"https://thumbnews.nateimg.co.kr/news90///news.nateimg.co.kr/orgImg/ch/2025/07/25/ch_1753372450731_489943_0.jpg\" width=\"120\"/>"
      ],
      "text/plain": [
       "<IPython.core.display.Image object>"
      ]
     },
     "metadata": {},
     "output_type": "display_data"
    },
    {
     "name": "stdout",
     "output_type": "stream",
     "text": [
      "\n",
      "5. 제목: 재건축·재개발 기간 18→13년으로 단축\n",
      "링크: https://news.nate.com/view/20250725n00453?mid=n0103\n",
      "이미지 주소: https://thumbnews.nateimg.co.kr/news90///news.nateimg.co.kr/orgImg/ch/2025/07/25/ch_1753372444442_664584_0.jpg\n"
     ]
    },
    {
     "data": {
      "text/html": [
       "<img src=\"https://thumbnews.nateimg.co.kr/news90///news.nateimg.co.kr/orgImg/ch/2025/07/25/ch_1753372444442_664584_0.jpg\" width=\"120\"/>"
      ],
      "text/plain": [
       "<IPython.core.display.Image object>"
      ]
     },
     "metadata": {},
     "output_type": "display_data"
    },
    {
     "name": "stdout",
     "output_type": "stream",
     "text": [
      "\n",
      "--- 세계 뉴스 ---\n",
      "URL: https://news.nate.com/recent?mid=n0104\n",
      "\n",
      "1. 제목: 트럼프, 관세 1%p 낮출때마다 \"쌀 더 사라\" \"보잉기 사라\"\n",
      "링크: https://news.nate.com/view/20250725n00474?mid=n0104\n",
      "이미지 주소: https://thumbnews.nateimg.co.kr/news90///news.nateimg.co.kr/orgImg/ch/2025/07/25/ch_1753372587683_142115_0.jpg\n"
     ]
    },
    {
     "data": {
      "text/html": [
       "<img src=\"https://thumbnews.nateimg.co.kr/news90///news.nateimg.co.kr/orgImg/ch/2025/07/25/ch_1753372587683_142115_0.jpg\" width=\"120\"/>"
      ],
      "text/plain": [
       "<IPython.core.display.Image object>"
      ]
     },
     "metadata": {},
     "output_type": "display_data"
    },
    {
     "name": "stdout",
     "output_type": "stream",
     "text": [
      "\n",
      "2. 제목: 캄보디아는 다연장로켓 쏘고, 태국은 F-16 띄웠다\n",
      "링크: https://news.nate.com/view/20250725n00449?mid=n0104\n",
      "이미지 주소: https://thumbnews.nateimg.co.kr/news90///news.nateimg.co.kr/orgImg/ch/2025/07/25/ch_1753372396685_984453_0.jpg\n"
     ]
    },
    {
     "data": {
      "text/html": [
       "<img src=\"https://thumbnews.nateimg.co.kr/news90///news.nateimg.co.kr/orgImg/ch/2025/07/25/ch_1753372396685_984453_0.jpg\" width=\"120\"/>"
      ],
      "text/plain": [
       "<IPython.core.display.Image object>"
      ]
     },
     "metadata": {},
     "output_type": "display_data"
    },
    {
     "name": "stdout",
     "output_type": "stream",
     "text": [
      "\n",
      "3. 제목: [News&Why] 죽은 엡스타인이 산 트럼프 잡는다…MAGA마저 \"의혹 해명하라\"\n",
      "링크: https://news.nate.com/view/20250725n00446?mid=n0104\n",
      "이미지 주소: https://thumbnews.nateimg.co.kr/news90///news.nateimg.co.kr/orgImg/ch/2025/07/25/ch_1753372387973_688651_0.jpg\n"
     ]
    },
    {
     "data": {
      "text/html": [
       "<img src=\"https://thumbnews.nateimg.co.kr/news90///news.nateimg.co.kr/orgImg/ch/2025/07/25/ch_1753372387973_688651_0.jpg\" width=\"120\"/>"
      ],
      "text/plain": [
       "<IPython.core.display.Image object>"
      ]
     },
     "metadata": {},
     "output_type": "display_data"
    },
    {
     "name": "stdout",
     "output_type": "stream",
     "text": [
      "\n",
      "4. 제목: \"매년 두 번씩 야스쿠니 신사 꼭 참배\" 강성 우익 다카이치, 차기 총리 부상\n",
      "링크: https://news.nate.com/view/20250725n00445?mid=n0104\n",
      "이미지 주소: https://thumbnews.nateimg.co.kr/news90///news.nateimg.co.kr/orgImg/ch/2025/07/25/ch_1753372387673_406841_0.jpg\n"
     ]
    },
    {
     "data": {
      "text/html": [
       "<img src=\"https://thumbnews.nateimg.co.kr/news90///news.nateimg.co.kr/orgImg/ch/2025/07/25/ch_1753372387673_406841_0.jpg\" width=\"120\"/>"
      ],
      "text/plain": [
       "<IPython.core.display.Image object>"
      ]
     },
     "metadata": {},
     "output_type": "display_data"
    },
    {
     "name": "stdout",
     "output_type": "stream",
     "text": [
      "\n",
      "5. 제목: 머스크 \"테슬라 내년까지 힘들 수도\" 시인에 주가 장중 8%대↓\n",
      "링크: https://news.nate.com/view/20250725n00416?mid=n0104\n",
      "이미지 주소: https://thumbnews.nateimg.co.kr/news90///news.nateimg.co.kr/orgImg/yt/2025/07/25/PRU20250724329801009_P2.jpg\n"
     ]
    },
    {
     "data": {
      "text/html": [
       "<img src=\"https://thumbnews.nateimg.co.kr/news90///news.nateimg.co.kr/orgImg/yt/2025/07/25/PRU20250724329801009_P2.jpg\" width=\"120\"/>"
      ],
      "text/plain": [
       "<IPython.core.display.Image object>"
      ]
     },
     "metadata": {},
     "output_type": "display_data"
    },
    {
     "name": "stdout",
     "output_type": "stream",
     "text": [
      "\n",
      "--- IT/과학 뉴스 ---\n",
      "URL: https://news.nate.com/recent?mid=n0105\n",
      "\n",
      "1. 제목: bhc, 필리핀 시장 본격 진출…2년간 최소 10개 매장 내기로\n",
      "링크: https://news.nate.com/view/20250725n00344?mid=n0105\n",
      "이미지 없음\n",
      "\n",
      "2. 제목: \"GPU 확보해야 살아남는다\"…빅테크 AI전쟁 2라운드 '인프라 전쟁'\n",
      "링크: https://news.nate.com/view/20250725n00300?mid=n0105\n",
      "이미지 주소: https://thumbnews.nateimg.co.kr/news90///news.nateimg.co.kr/orgImg/mk/2025/07/25/news-p.v1.20250418.0f6156d4acb54147b8b39890167659ee_P1.png\n"
     ]
    },
    {
     "data": {
      "text/html": [
       "<img src=\"https://thumbnews.nateimg.co.kr/news90///news.nateimg.co.kr/orgImg/mk/2025/07/25/news-p.v1.20250418.0f6156d4acb54147b8b39890167659ee_P1.png\" width=\"120\"/>"
      ],
      "text/plain": [
       "<IPython.core.display.Image object>"
      ]
     },
     "metadata": {},
     "output_type": "display_data"
    },
    {
     "name": "stdout",
     "output_type": "stream",
     "text": [
      "\n",
      "3. 제목: AI전쟁 이길 '각'을 찾아라, 원팀 코리아 결론 '규제 완화'\n",
      "링크: https://news.nate.com/view/20250725n00108?mid=n0105\n",
      "이미지 주소: https://thumbnews.nateimg.co.kr/news90///news.nateimg.co.kr/orgImg/jo/2025/07/25/a4a38648-49af-4ff1-83c0-16e12fd0334e.jpg\n"
     ]
    },
    {
     "data": {
      "text/html": [
       "<img src=\"https://thumbnews.nateimg.co.kr/news90///news.nateimg.co.kr/orgImg/jo/2025/07/25/a4a38648-49af-4ff1-83c0-16e12fd0334e.jpg\" width=\"120\"/>"
      ],
      "text/plain": [
       "<IPython.core.display.Image object>"
      ]
     },
     "metadata": {},
     "output_type": "display_data"
    },
    {
     "name": "stdout",
     "output_type": "stream",
     "text": [
      "\n",
      "4. 제목: '역대급 실적' 구글의 속사정…올 자본지출만 850억 달러\n",
      "링크: https://news.nate.com/view/20250725n00102?mid=n0105\n",
      "이미지 없음\n",
      "\n",
      "5. 제목: 위고비도 신세계였는데 이번엔…\"한 달 뒤 끝판왕 온다\" 들썩\n",
      "링크: https://news.nate.com/view/20250724n35340?mid=n0105\n",
      "이미지 주소: https://thumbnews.nateimg.co.kr/news90///news.nateimg.co.kr/orgImg/hk/2025/07/24/AA.41214182.4.jpg\n"
     ]
    },
    {
     "data": {
      "text/html": [
       "<img src=\"https://thumbnews.nateimg.co.kr/news90///news.nateimg.co.kr/orgImg/hk/2025/07/24/AA.41214182.4.jpg\" width=\"120\"/>"
      ],
      "text/plain": [
       "<IPython.core.display.Image object>"
      ]
     },
     "metadata": {},
     "output_type": "display_data"
    }
   ],
   "source": [
    "import requests\n",
    "from bs4 import BeautifulSoup\n",
    "from urllib.parse import urljoin\n",
    "from IPython.display import Image, display\n",
    "\n",
    "\n",
    "section_urls = {\n",
    "    '최신뉴스': 'https://news.nate.com/recent?mid=n0100',\n",
    "    '정치': 'https://news.nate.com/recent?mid=n0101',\n",
    "    '경제': 'https://news.nate.com/recent?mid=n0102',\n",
    "    '사회': 'https://news.nate.com/recent?mid=n0103',\n",
    "    '세계': 'https://news.nate.com/recent?mid=n0104',\n",
    "    'IT/과학': 'https://news.nate.com/recent?mid=n0105'\n",
    "}\n",
    "\n",
    "def scrape_nate_news(section_name, limit=5):\n",
    "    \"\"\"Nate 뉴스 스크래핑: 제목, 링크, 이미지 출력\"\"\"\n",
    "    if section_name not in section_urls:\n",
    "        print(f\"'{section_name}' 섹션이 존재하지 않습니다.\")\n",
    "        return\n",
    "\n",
    "    url = section_urls[section_name]\n",
    "    print(f\"\\n--- {section_name} 뉴스 ---\")\n",
    "    print(f\"URL: {url}\")\n",
    "\n",
    "    headers = {\"User-Agent\": \"Mozilla/5.0\"}\n",
    "    try:\n",
    "        res = requests.get(url, headers=headers)\n",
    "        res.raise_for_status()\n",
    "    except requests.exceptions.RequestException as e:\n",
    "        print(f\"Error fetching URL: {e}\")\n",
    "        return\n",
    "\n",
    "    soup = BeautifulSoup(res.text, \"html.parser\")\n",
    "\n",
    "    news_items = soup.select('div.mduSubjectList')\n",
    "\n",
    "    if not news_items:\n",
    "        print(\"뉴스 기사를 찾을 수 없습니다.\")\n",
    "        return\n",
    "\n",
    "    for idx, item in enumerate(news_items[:limit], 1):\n",
    "\n",
    "        title_tag = item.select_one('h2.tit') or item.select_one('a.lt1')\n",
    "        title = title_tag.text.strip() if title_tag else \"제목 없음\"\n",
    "\n",
    "        link_tag = item.select_one('a[href]')\n",
    "        link = urljoin(url, link_tag['href']) if link_tag else \"링크 없음\"\n",
    "\n",
    "\n",
    "        img_tag = item.select_one('img')\n",
    "        img_src = urljoin(url, img_tag['src']) if img_tag and img_tag.has_attr('src') else None\n",
    "\n",
    "        print(f\"\\n{idx}. 제목: {title}\")\n",
    "        print(f\"링크: {link}\")\n",
    "        if img_src:\n",
    "            print(f\"이미지 주소: {img_src}\")\n",
    "            display(Image(url=img_src, width=120))\n",
    "        else:\n",
    "            print(\"이미지 없음\")\n",
    "\n",
    "for section in section_urls.keys():\n",
    "    scrape_nate_news(section)"
   ]
  }
 ],
 "metadata": {
  "kernelspec": {
   "display_name": "base",
   "language": "python",
   "name": "python3"
  },
  "language_info": {
   "codemirror_mode": {
    "name": "ipython",
    "version": 3
   },
   "file_extension": ".py",
   "mimetype": "text/x-python",
   "name": "python",
   "nbconvert_exporter": "python",
   "pygments_lexer": "ipython3",
   "version": "3.12.7"
  }
 },
 "nbformat": 4,
 "nbformat_minor": 5
}
