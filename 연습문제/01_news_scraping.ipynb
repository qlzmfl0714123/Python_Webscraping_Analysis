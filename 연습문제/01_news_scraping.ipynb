{
 "cells": [
  {
   "cell_type": "code",
   "execution_count": 10,
   "id": "41eafb29",
   "metadata": {},
   "outputs": [
    {
     "name": "stdout",
     "output_type": "stream",
     "text": [
      "Name: requests\n",
      "Version: 2.32.3\n",
      "Summary: Python HTTP for Humans.\n",
      "Home-page: https://requests.readthedocs.io\n",
      "Author: Kenneth Reitz\n",
      "Author-email: me@kennethreitz.org\n",
      "License: Apache-2.0\n",
      "Location: C:\\Users\\user\\anaconda3\\Lib\\site-packages\n",
      "Requires: certifi, charset-normalizer, idna, urllib3\n",
      "Required-by: anaconda-catalogs, anaconda-client, anaconda-cloud-auth, anaconda-project, conda, conda-build, conda-repo-cli, conda_package_streaming, cookiecutter, datashader, jupyterlab_server, panel, requests-file, requests-toolbelt, Sphinx, streamlit, tldextract\n"
     ]
    }
   ],
   "source": [
    "!pip show requests"
   ]
  },
  {
   "cell_type": "code",
   "execution_count": 11,
   "id": "e6d304f4",
   "metadata": {},
   "outputs": [
    {
     "name": "stdout",
     "output_type": "stream",
     "text": [
      "Name: beautifulsoup4\n",
      "Version: 4.12.3\n",
      "Summary: Screen-scraping library\n",
      "Home-page: https://www.crummy.com/software/BeautifulSoup/bs4/\n",
      "Author: \n",
      "Author-email: Leonard Richardson <leonardr@segfault.org>\n",
      "License: MIT License\n",
      "Location: C:\\Users\\user\\anaconda3\\Lib\\site-packages\n",
      "Requires: soupsieve\n",
      "Required-by: conda-build, nbconvert\n"
     ]
    }
   ],
   "source": [
    "!pip show beautifulsoup4"
   ]
  },
  {
   "cell_type": "code",
   "execution_count": 4,
   "id": "e93021a1",
   "metadata": {},
   "outputs": [],
   "source": [
    "# reqeusts, bs4 import\n",
    "import requests\n",
    "# BeautifulSoup import\n",
    "import bs4\n",
    "# BeautifulSoup 클래스 import\n",
    "from bs4 import BeautifulSoup"
   ]
  },
  {
   "cell_type": "code",
   "execution_count": 5,
   "id": "fc547d46",
   "metadata": {},
   "outputs": [
    {
     "name": "stdout",
     "output_type": "stream",
     "text": [
      "https://news.daum.net/economy\n"
     ]
    }
   ],
   "source": [
    "#사회 뉴스\n",
    "req_param = {\n",
    "    'sid': \"economy\"\n",
    "}\n",
    "\n",
    "sid = \"society\"\n",
    "url = 'https://news.daum.net/{sid}'.format(**req_param)\n",
    "print(url)"
   ]
  },
  {
   "cell_type": "code",
   "execution_count": 9,
   "id": "73999897",
   "metadata": {},
   "outputs": [
    {
     "name": "stdout",
     "output_type": "stream",
     "text": [
      "https://news.daum.net/economy\n",
      "200 True\n",
      "<class 'requests.models.Response'>\n",
      "<Response [200]>\n",
      "9\n",
      "<class 'bs4.element.ResultSet'>\n",
      "1 韓 반도체는 깨어날 줄 모르고 [AI 칩 전쟁…한국은 없다?] 세계 인공지능(AI) 칩 산업을 엔비디아가 사실상 장악한 가운데, 국내 기업은 갈 길이 멀다는 지적이 쏟아진다. 리벨리온과 퓨리오사AI 같은 팹리스(Fabless·반도체 설계) 업체가 대만 TSMC 등 파운드리 업체를 통해 AI 반도체 신경망처리장치(NPU)를 제조 중이지만, 빅테크와는 비교 불가다. 특히, 국내 AI 산업은 생태계 전반을 포괄적으로 아우르 매경이코노미 1시간 전 https://v.daum.net/v/20250722210317765\n",
      "2 소비쿠폰 쓰려다가 '화들짝'…\"여기서는 못써요\" 응답에 '당황'한 소비자 아시아경제 1시간 전 https://v.daum.net/v/20250722204242273\n",
      "3 ‘해수부 부산 시대’ 조선·해양플랜트까지 업무 넓혀야 부산일보 2시간 전 https://v.daum.net/v/20250722202007801\n",
      "4 동영상     [이슈대담] “2040년 석탄화력발전소 폐쇄…신재생 에너지 전환” KBS 2시간 전 https://v.daum.net/v/20250722200357366\n",
      "5 경제통상 외교수장들, 대거 미국행... 관세 타결·한미정상회담 열릴까 오마이뉴스 3시간 전 https://v.daum.net/v/20250722190900992\n",
      "6 퇴근하면 시작된다...유통업계 다시 불붙은 '6시 쇼핑' 전쟁 중앙일보 3시간 전 https://v.daum.net/v/20250722185103483\n",
      "7 “자율주행, 이동약자 지원하는 ‘공공성’에 초점 맞춰야” 한겨레 4시간 전 https://v.daum.net/v/20250722183143976\n",
      "8 꾸준히 강세 흐름 보이는 메이저 알트코인들 : 코리안 크립토 위클리 [INFCL 리서치] 한국경제 4시간 전 https://v.daum.net/v/20250722181057244\n",
      "9 세계시장 제패한 K뷰티·푸드…'첨단' 아니라며 R&D지원은 쥐꼬리 한국경제 4시간 전 https://v.daum.net/v/20250722175548581\n"
     ]
    }
   ],
   "source": [
    "# 경제 뉴스\n",
    "req_param = {\n",
    "    'sid': \"economy\"\n",
    "}\n",
    "url = 'https://news.daum.net/{sid}'.format(**req_param)\n",
    "print(url)\n",
    "\n",
    "# 요청 헤더 설정 : 브라우저 정보\n",
    "req_header = {\n",
    "     \"user-agent\": \"Mozilla/5.0 (Windows NT 10.0; Win64; x64) AppleWebKit/537.36 (KHTML, like Gecko) Chrome/138.0.0.0 Safari/537.36\"\n",
    "}\n",
    "\n",
    "# requests 의 get() 함수 호출하기  \n",
    "res=requests.get(url,headers=req_header)\n",
    "print(res.status_code, res.ok)\n",
    "print(type(res))\n",
    "print(res)\n",
    "# 응답(response)이 OK 이면\n",
    "# 응답 (response)에서 text 추출\n",
    "if res.ok:\n",
    "    res.encoding = 'utf-8'\n",
    "    html = res.text\n",
    "    \n",
    "    # BeautifulSoup 객체 생성\n",
    "    soup = BeautifulSoup(html, \"html.parser\")   \n",
    "    #print(soup)\n",
    "    # CSS 선택자\n",
    "    # print(soup.select(\"div.sa_text a[href*='mnews/article']\"))\n",
    "    '''\n",
    "    '''\n",
    "    a_tags = soup.select(\"a.item_newsheadline2\")\n",
    "    print(len(a_tags))\n",
    "    print(type(a_tags)) #[Tag,Tag,Tag]\n",
    "    # <a> 태그 리스트 순회하기\n",
    "    for idx,a_tag in enumerate(a_tags,1):        \n",
    "        if a_tag.text:\n",
    "            title = a_tag.text.strip() # 제목\n",
    "            link = a_tag['href'] # 링크\n",
    "            #print(len(title))\n",
    "            print(f'{idx} {title} {link}')\n",
    "else:\n",
    "    # 응답(response)이 Error 이면 status code 출력    \n",
    "    print(f'Error Code = {res.status_code}')\n",
    "\n"
   ]
  },
  {
   "cell_type": "code",
   "execution_count": null,
   "id": "c0021df2",
   "metadata": {},
   "outputs": [],
   "source": [
    "import requests\n",
    "from bs4 import BeautifulSoup\n",
    "\n",
    "section_dict = {'기후/환경':\"climate\",'사회':\"society\",'경제':\"economy\",'정치':\"politics\",'국제':\"world\",'문화':\"culture\",'생활':\"life\",'IT/과학':\"tech\",'인물':\"people\",'지식/칼럼':\"understanding\",'연재':\"series\"}\n",
    "\n",
    "\n",
    "def print_news(section):  \n",
    "    sid = section_dict[section]\n",
    "    url = f'https://news.daum.net/{sid}'\n",
    "    print(f'{url} {section} 뉴스')\n",
    "\n",
    "    # 요청 헤더 설정 : 브라우저 정보\n",
    "    req_header = {\n",
    "        \"user-agent\": \"Mozilla/5.0 (Windows NT 10.0; Win64; x64) AppleWebKit/537.36 (KHTML, like Gecko) Chrome/138.0.0.0 Safari/537.36\"\n",
    "    }\n",
    "\n",
    "    res = requests.get(url, headers=req_header)\n",
    "    print(res.status_code, res.ok)\n",
    "    if res.ok:\n",
    "        res.encoding = 'utf-8'\n",
    "        html = res.text\n",
    "        \n",
    "        # BeautifulSoup 객체 생성\n",
    "        soup = BeautifulSoup(html, \"html.parser\")\n",
    "        a_tags = soup.select(\"a.item_newsheadline2\")\n",
    "        print(len(a_tags))\n",
    "        \n",
    "        # <a> 태그 리스트 순회하기\n",
    "        for idx, a_tag in enumerate(a_tags, 1):        \n",
    "            if a_tag.text:\n",
    "                title = a_tag.text.strip()  # 제목\n",
    "                link = a_tag['href']        # 링크\n",
    "                print(f'{idx}. {title} - {link}')\n",
    "    else:\n",
    "        print(f'Error Code = {res.status_code}')\n",
    "\n",
    "\n"
   ]
  },
  {
   "cell_type": "code",
   "execution_count": 18,
   "id": "ea59c6fc",
   "metadata": {},
   "outputs": [
    {
     "name": "stdout",
     "output_type": "stream",
     "text": [
      "https://news.daum.net/economy 경제 뉴스\n",
      "200 True\n",
      "9\n",
      "1. 韓 반도체는 깨어날 줄 모르고 [AI 칩 전쟁…한국은 없다?] 세계 인공지능(AI) 칩 산업을 엔비디아가 사실상 장악한 가운데, 국내 기업은 갈 길이 멀다는 지적이 쏟아진다. 리벨리온과 퓨리오사AI 같은 팹리스(Fabless·반도체 설계) 업체가 대만 TSMC 등 파운드리 업체를 통해 AI 반도체 신경망처리장치(NPU)를 제조 중이지만, 빅테크와는 비교 불가다. 특히, 국내 AI 산업은 생태계 전반을 포괄적으로 아우르 매경이코노미 2시간 전 - https://v.daum.net/v/20250722210317765\n",
      "2. 소비쿠폰 쓰려다가 '화들짝'…\"여기서는 못써요\" 응답에 '당황'한 소비자 아시아경제 2시간 전 - https://v.daum.net/v/20250722204242273\n",
      "3. ‘해수부 부산 시대’ 조선·해양플랜트까지 업무 넓혀야 부산일보 2시간 전 - https://v.daum.net/v/20250722202007801\n",
      "4. 동영상     [이슈대담] “2040년 석탄화력발전소 폐쇄…신재생 에너지 전환” KBS 3시간 전 - https://v.daum.net/v/20250722200357366\n",
      "5. 경제통상 외교수장들, 대거 미국행... 관세 타결·한미정상회담 열릴까 오마이뉴스 3시간 전 - https://v.daum.net/v/20250722190900992\n",
      "6. 퇴근하면 시작된다...유통업계 다시 불붙은 '6시 쇼핑' 전쟁 중앙일보 4시간 전 - https://v.daum.net/v/20250722185103483\n",
      "7. “자율주행, 이동약자 지원하는 ‘공공성’에 초점 맞춰야” 한겨레 4시간 전 - https://v.daum.net/v/20250722183143976\n",
      "8. 꾸준히 강세 흐름 보이는 메이저 알트코인들 : 코리안 크립토 위클리 [INFCL 리서치] 한국경제 4시간 전 - https://v.daum.net/v/20250722181057244\n",
      "9. 세계시장 제패한 K뷰티·푸드…'첨단' 아니라며 R&D지원은 쥐꼬리 한국경제 5시간 전 - https://v.daum.net/v/20250722175548581\n"
     ]
    }
   ],
   "source": [
    "print_news('경제')"
   ]
  }
 ],
 "metadata": {
  "kernelspec": {
   "display_name": "base",
   "language": "python",
   "name": "python3"
  },
  "language_info": {
   "codemirror_mode": {
    "name": "ipython",
    "version": 3
   },
   "file_extension": ".py",
   "mimetype": "text/x-python",
   "name": "python",
   "nbconvert_exporter": "python",
   "pygments_lexer": "ipython3",
   "version": "3.12.7"
  }
 },
 "nbformat": 4,
 "nbformat_minor": 5
}
