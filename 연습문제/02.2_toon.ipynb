{
 "cells": [
  {
   "cell_type": "code",
   "execution_count": null,
   "id": "4a8c600e",
   "metadata": {},
   "outputs": [],
   "source": [
    "def download_one_episode(title, no, url):\n",
    "    import requests\n",
    "    from bs4 import BeautifulSoup\n",
    "    import os\n",
    "\n",
    "    req_header = {\n",
    "        'referer': url\n",
    "    }\n",
    "\n",
    "    res = requests.get(url)\n",
    "    if res.ok:\n",
    "        soup = BeautifulSoup(res.text, 'html.parser')\n",
    "\n",
    "        imgurl_list = [img_tag['src'] for img_tag in soup.select(\"img[src*='IMAG01']\")]\n",
    "\n",
    "        dir_name = os.path.join('img', title)\n",
    "        if not os.path.isdir(dir_name):\n",
    "            os.makedirs(dir_name)\n",
    "\n",
    "        for idx, img_url in enumerate(imgurl_list, 1):\n",
    "            res = requests.get(img_url, headers=req_header)\n",
    "            if res.ok:\n",
    "                img_data = res.content\n",
    "                file_name = os.path.basename(img_url)\n",
    "                file_path = os.path.join(dir_name, file_name)\n",
    "                with open(file_path, 'wb') as file:\n",
    "                    file.write(img_data)\n",
    "\n",
    "print(\"download_one_episode('일렉시드', 341, 'https://comic.naver.com/webtoon/detail?titleId=717481&no=341&week=wed')\")\n",
    "download_one_episode('일렉시드', 341, 'https://comic.naver.com/webtoon/detail?titleId=717481&no=341&week=wed')\n"
   ]
  }
 ],
 "metadata": {
  "language_info": {
   "name": "python"
  }
 },
 "nbformat": 4,
 "nbformat_minor": 5
}
